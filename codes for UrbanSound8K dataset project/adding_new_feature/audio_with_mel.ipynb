{
 "cells": [
  {
   "cell_type": "code",
   "execution_count": 1,
   "id": "efficient-crime",
   "metadata": {},
   "outputs": [],
   "source": [
    "import pandas as pd\n",
    "import librosa\n",
    "import os\n",
    "from datetime import datetime\n",
    "import numpy as np\n",
    "from recorder import Recorder"
   ]
  },
  {
   "cell_type": "code",
   "execution_count": 2,
   "id": "individual-future",
   "metadata": {},
   "outputs": [],
   "source": [
    "features = []\n",
    "r = Recorder()\n",
    "max_pad_len = 174"
   ]
  },
  {
   "cell_type": "code",
   "execution_count": 6,
   "id": "incredible-cosmetic",
   "metadata": {},
   "outputs": [],
   "source": [
    "def extract_feature_mel(file):\n",
    "    try:\n",
    "        audio, sr = librosa.load(file, res_type = 'kaiser_fast')\n",
    "        #audio = librosa.effects.harmonic(audio)\n",
    "        mel = librosa.feature.melspectrogram(y=audio, sr=sr)\n",
    "        pad_width = max_pad_len - mel.shape[1]\n",
    "        mel = np.pad(mel, pad_width = ((0,0), (0,pad_width)), mode = 'constant')\n",
    "        #tonnetz = np.mean(librosa.feature.tonnetz(y=librosa.effects.harmonic(audio),sr=sample_rate).T,axis=0)\n",
    "\n",
    "    except Exception as e :\n",
    "        #print('Error happened while parsing file', file)\n",
    "        print(e)\n",
    "        return None\n",
    "        \n",
    "    return mel"
   ]
  },
  {
   "cell_type": "code",
   "execution_count": 7,
   "id": "small-education",
   "metadata": {},
   "outputs": [],
   "source": [
    "result = extract_feature_mel('../../../downloaded_audio_clips/street_music.wav')"
   ]
  },
  {
   "cell_type": "code",
   "execution_count": 8,
   "id": "southwest-handle",
   "metadata": {},
   "outputs": [
    {
     "name": "stdout",
     "output_type": "stream",
     "text": [
      "(128, 174)\n"
     ]
    }
   ],
   "source": [
    "print(result.shape)"
   ]
  },
  {
   "cell_type": "code",
   "execution_count": 9,
   "id": "christian-deposit",
   "metadata": {},
   "outputs": [
    {
     "name": "stdout",
     "output_type": "stream",
     "text": [
      "[[7.5772987e-03 3.2140876e-03 6.0848147e-04 ... 0.0000000e+00\n",
      "  0.0000000e+00 0.0000000e+00]\n",
      " [5.7917740e-02 8.8473521e-02 1.6783181e-01 ... 0.0000000e+00\n",
      "  0.0000000e+00 0.0000000e+00]\n",
      " [2.6846144e-01 1.0759641e+00 2.7837169e+00 ... 0.0000000e+00\n",
      "  0.0000000e+00 0.0000000e+00]\n",
      " ...\n",
      " [2.3331563e-06 6.8978993e-06 4.3038081e-06 ... 0.0000000e+00\n",
      "  0.0000000e+00 0.0000000e+00]\n",
      " [3.0570257e-07 1.0448880e-06 5.6614493e-07 ... 0.0000000e+00\n",
      "  0.0000000e+00 0.0000000e+00]\n",
      " [2.6529024e-08 7.4417287e-08 3.4379720e-08 ... 0.0000000e+00\n",
      "  0.0000000e+00 0.0000000e+00]]\n"
     ]
    }
   ],
   "source": [
    "print(result)"
   ]
  },
  {
   "cell_type": "markdown",
   "id": "bright-chemistry",
   "metadata": {},
   "source": [
    "# sathe sathe chroma_stft r taao kore fellam "
   ]
  },
  {
   "cell_type": "code",
   "execution_count": 10,
   "id": "animal-density",
   "metadata": {},
   "outputs": [],
   "source": [
    "def extract_feature_chroma_stft(file):\n",
    "    try:\n",
    "        audio, sr = librosa.load(file, res_type = 'kaiser_fast')\n",
    "        #audio = librosa.effects.harmonic(audio)\n",
    "        chroma = librosa.feature.chroma_stft(y=audio, sr=sr)\n",
    "        pad_width = max_pad_len - chroma.shape[1]\n",
    "        chroma = np.pad(chroma, pad_width = ((0,0), (0,pad_width)), mode = 'constant')\n",
    "        #tonnetz = np.mean(librosa.feature.tonnetz(y=librosa.effects.harmonic(audio),sr=sample_rate).T,axis=0)\n",
    "\n",
    "    except Exception as e :\n",
    "        #print('Error happened while parsing file', file)\n",
    "        print(e)\n",
    "        return None\n",
    "        \n",
    "    return chroma"
   ]
  },
  {
   "cell_type": "code",
   "execution_count": 13,
   "id": "cheap-server",
   "metadata": {},
   "outputs": [],
   "source": [
    "chroma_result = extract_feature_chroma_stft('../../../downloaded_audio_clips/street_music.wav')"
   ]
  },
  {
   "cell_type": "code",
   "execution_count": 14,
   "id": "offshore-secretary",
   "metadata": {},
   "outputs": [
    {
     "name": "stdout",
     "output_type": "stream",
     "text": [
      "(12, 174)\n"
     ]
    }
   ],
   "source": [
    "print(chroma_result.shape)"
   ]
  },
  {
   "cell_type": "code",
   "execution_count": 15,
   "id": "ordinary-drain",
   "metadata": {},
   "outputs": [
    {
     "name": "stdout",
     "output_type": "stream",
     "text": [
      "[[0.0465768  0.07269613 0.13310069 ... 0.         0.         0.        ]\n",
      " [0.06030234 0.0291456  0.01146783 ... 0.         0.         0.        ]\n",
      " [0.23925596 0.07557968 0.04046364 ... 0.         0.         0.        ]\n",
      " ...\n",
      " [0.01421273 0.015153   0.01129387 ... 0.         0.         0.        ]\n",
      " [0.04114164 0.1045249  0.24759142 ... 0.         0.         0.        ]\n",
      " [0.08324129 0.3225774  1.         ... 0.         0.         0.        ]]\n"
     ]
    }
   ],
   "source": [
    "print(chroma_result)"
   ]
  },
  {
   "cell_type": "markdown",
   "id": "partial-input",
   "metadata": {},
   "source": [
    "## ebar abar df er porer portion theke"
   ]
  },
  {
   "cell_type": "markdown",
   "id": "academic-montana",
   "metadata": {},
   "source": [
    "collab theka namaya nisi"
   ]
  },
  {
   "cell_type": "code",
   "execution_count": 16,
   "id": "attended-sugar",
   "metadata": {},
   "outputs": [],
   "source": [
    "df = pd.read_hdf('features_from_UrbanSound_for_cnn_for_only_mel.h5', 'df')"
   ]
  },
  {
   "cell_type": "code",
   "execution_count": 19,
   "id": "abstract-certification",
   "metadata": {},
   "outputs": [
    {
     "name": "stdout",
     "output_type": "stream",
     "text": [
      "(8732, 128, 174)\n",
      "(128, 174)\n"
     ]
    }
   ],
   "source": [
    "X = np.array(df.feature.tolist())\n",
    "print(X.shape)\n",
    "print(X[0].shape)"
   ]
  },
  {
   "cell_type": "markdown",
   "id": "retired-census",
   "metadata": {},
   "source": [
    "nice >>> ekhon build model Training model er kaaj"
   ]
  },
  {
   "cell_type": "code",
   "execution_count": 23,
   "id": "interesting-freight",
   "metadata": {},
   "outputs": [],
   "source": [
    "import tensorflow.keras as keras\n",
    "from sklearn.model_selection import train_test_split\n",
    "\n",
    "#convert the data and labels for understandable numerical data\n",
    "from sklearn.preprocessing import LabelEncoder\n",
    "from tensorflow.keras.utils import to_categorical\n",
    "from datetime import datetime"
   ]
  },
  {
   "cell_type": "code",
   "execution_count": 24,
   "id": "perceived-destiny",
   "metadata": {},
   "outputs": [],
   "source": [
    "def prepare_dataset(test_size, validation_size): \t\n",
    "\t#load data\n",
    "\tX = np.array(df.feature.tolist())\n",
    "\ty = np.array(df.class_label.tolist())\n",
    "\t\n",
    "    \n",
    "\tle = LabelEncoder()\n",
    "\ty = to_categorical(le.fit_transform(y))\n",
    "\t\n",
    "\t#create train/test split\n",
    "\tX_train, X_test, y_train, y_test = train_test_split(X,y, test_size = test_size)\n",
    "\t\n",
    "\t#create train/validation split\n",
    "\tX_train, X_validation, y_train, y_validation = train_test_split(X_train, y_train, test_size = validation_size)\n",
    "\n",
    "\t#for CNN tensor flow expects a 3d array -->(130,13,1)\n",
    "\tX_train = X_train[...,np.newaxis] #4d array --> (num_samples, 130, 13,1)\n",
    "\tX_validation = X_validation[...,np.newaxis]\n",
    "\tX_test = X_test[...,np.newaxis]\n",
    "\t\n",
    "\treturn X_train, X_validation, X_test, y_train, y_validation, y_test"
   ]
  },
  {
   "cell_type": "code",
   "execution_count": 25,
   "id": "southwest-argentina",
   "metadata": {},
   "outputs": [
    {
     "name": "stdout",
     "output_type": "stream",
     "text": [
      "2183\n",
      "(2183, 10)\n",
      "(5239, 128, 174, 1)\n",
      "(2183, 128, 174, 1)\n"
     ]
    }
   ],
   "source": [
    "X_train, X_validation, X_test, y_train, y_validation, y_test= prepare_dataset(0.25, 0.2)\n",
    "print(len(y_test))\n",
    "print(y_test.shape)\n",
    "print(X_train.shape)\n",
    "print(X_test.shape)"
   ]
  },
  {
   "cell_type": "code",
   "execution_count": 26,
   "id": "abandoned-airport",
   "metadata": {},
   "outputs": [],
   "source": [
    "def build_model(input_shape):\n",
    "\t\n",
    "\t#create model \n",
    "\tmodel = keras.Sequential()\n",
    "\t#1st conv layer\n",
    "\tmodel.add(keras.layers.Conv2D(32, (3, 3), activation = 'relu', input_shape= input_shape))\n",
    "\tmodel.add(keras.layers.MaxPool2D((3,3), strides = (2,2), padding = 'same'))\n",
    "\tmodel.add(keras.layers.BatchNormalization()) # speed up korbe>> normalise korbe...details bole nai...beginning level e na janleo ok!\n",
    "\t\n",
    "\t\n",
    "\t#param>>filters, kernel_size, \n",
    "\t#2nd conv layer\n",
    "\tmodel.add(keras.layers.Conv2D(32, (3, 3), activation = 'relu', input_shape= input_shape))\n",
    "\t#param>> kernel_size, padding same means zero padding\n",
    "\tmodel.add(keras.layers.MaxPool2D((3,3), strides = (2,2), padding = 'same'))\n",
    "\tmodel.add(keras.layers.BatchNormalization())\n",
    "\t\n",
    "\t\n",
    "\t#3rd conv layer\n",
    "\tmodel.add(keras.layers.Conv2D(32, (2, 2), activation = 'relu', input_shape= input_shape))\n",
    "\tmodel.add(keras.layers.MaxPool2D((2,2), strides = (2,2), padding = 'same'))\n",
    "\tmodel.add(keras.layers.BatchNormalization())\n",
    "\t\n",
    "\t\n",
    "\t#flatten the output and feed it into dense layer\n",
    "\tmodel.add(keras.layers.Flatten())\n",
    "\tmodel.add(keras.layers.Dense(64, activation = 'relu'))\n",
    "\tmodel.add(keras.layers.Dropout(0.3))\n",
    "\t\n",
    "\t#output layer\n",
    "\tmodel.add(keras.layers.Dense(10, activation = 'softmax'))\n",
    "\n",
    "\treturn model\n"
   ]
  },
  {
   "cell_type": "markdown",
   "id": "friendly-shooting",
   "metadata": {},
   "source": [
    "# build the CNN net"
   ]
  },
  {
   "cell_type": "markdown",
   "id": "rocky-immunology",
   "metadata": {},
   "source": [
    "build, train, fit ogula Collab e kore feltesi"
   ]
  },
  {
   "cell_type": "code",
   "execution_count": 27,
   "id": "forward-swedish",
   "metadata": {},
   "outputs": [
    {
     "name": "stdout",
     "output_type": "stream",
     "text": [
      "Model: \"sequential\"\n",
      "_________________________________________________________________\n",
      "Layer (type)                 Output Shape              Param #   \n",
      "=================================================================\n",
      "conv2d (Conv2D)              (None, 126, 172, 32)      320       \n",
      "_________________________________________________________________\n",
      "max_pooling2d (MaxPooling2D) (None, 63, 86, 32)        0         \n",
      "_________________________________________________________________\n",
      "batch_normalization (BatchNo (None, 63, 86, 32)        128       \n",
      "_________________________________________________________________\n",
      "conv2d_1 (Conv2D)            (None, 61, 84, 32)        9248      \n",
      "_________________________________________________________________\n",
      "max_pooling2d_1 (MaxPooling2 (None, 31, 42, 32)        0         \n",
      "_________________________________________________________________\n",
      "batch_normalization_1 (Batch (None, 31, 42, 32)        128       \n",
      "_________________________________________________________________\n",
      "conv2d_2 (Conv2D)            (None, 30, 41, 32)        4128      \n",
      "_________________________________________________________________\n",
      "max_pooling2d_2 (MaxPooling2 (None, 15, 21, 32)        0         \n",
      "_________________________________________________________________\n",
      "batch_normalization_2 (Batch (None, 15, 21, 32)        128       \n",
      "_________________________________________________________________\n",
      "flatten (Flatten)            (None, 10080)             0         \n",
      "_________________________________________________________________\n",
      "dense (Dense)                (None, 64)                645184    \n",
      "_________________________________________________________________\n",
      "dropout (Dropout)            (None, 64)                0         \n",
      "_________________________________________________________________\n",
      "dense_1 (Dense)              (None, 10)                650       \n",
      "=================================================================\n",
      "Total params: 659,914\n",
      "Trainable params: 659,722\n",
      "Non-trainable params: 192\n",
      "_________________________________________________________________\n"
     ]
    }
   ],
   "source": [
    "input_shape = (X_train.shape[1], X_train.shape[2], X_train.shape[3] ) \n",
    "model = build_model(input_shape)\n",
    "\n",
    "#Compile the CNN\n",
    "optimizer = keras.optimizers.Adam(learning_rate = 0.0001)\n",
    "model.compile(optimizer=optimizer, loss= \"categorical_crossentropy\",\n",
    "metrics=['accuracy'])\n",
    "\n",
    "model.summary()"
   ]
  },
  {
   "cell_type": "code",
   "execution_count": null,
   "id": "psychological-ethics",
   "metadata": {},
   "outputs": [],
   "source": []
  }
 ],
 "metadata": {
  "kernelspec": {
   "display_name": "Python 3",
   "language": "python",
   "name": "python3"
  },
  "language_info": {
   "codemirror_mode": {
    "name": "ipython",
    "version": 3
   },
   "file_extension": ".py",
   "mimetype": "text/x-python",
   "name": "python",
   "nbconvert_exporter": "python",
   "pygments_lexer": "ipython3",
   "version": "3.8.5"
  }
 },
 "nbformat": 4,
 "nbformat_minor": 5
}
