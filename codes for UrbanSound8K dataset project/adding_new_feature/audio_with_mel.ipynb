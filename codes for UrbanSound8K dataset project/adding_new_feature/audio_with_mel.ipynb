{
 "cells": [
  {
   "cell_type": "code",
   "execution_count": 1,
   "id": "efficient-crime",
   "metadata": {},
   "outputs": [],
   "source": [
    "import pandas as pd\n",
    "import librosa\n",
    "import os\n",
    "from datetime import datetime\n",
    "import numpy as np\n",
    "from recorder import Recorder"
   ]
  },
  {
   "cell_type": "code",
   "execution_count": 2,
   "id": "individual-future",
   "metadata": {},
   "outputs": [],
   "source": [
    "features = []\n",
    "r = Recorder()\n",
    "max_pad_len = 174"
   ]
  },
  {
   "cell_type": "code",
   "execution_count": 3,
   "id": "incredible-cosmetic",
   "metadata": {},
   "outputs": [],
   "source": [
    "def extract_feature_mel(file):\n",
    "    try:\n",
    "        audio, sr = librosa.load(file, res_type = 'kaiser_fast')\n",
    "        #audio = librosa.effects.harmonic(audio)\n",
    "        mel = librosa.feature.melspectrogram(y=audio, sr=sr)\n",
    "        pad_width = max_pad_len - mel.shape[1]\n",
    "        mel = np.pad(mel, pad_width = ((0,0), (0,pad_width)), mode = 'constant')\n",
    "        #tonnetz = np.mean(librosa.feature.tonnetz(y=librosa.effects.harmonic(audio),sr=sample_rate).T,axis=0)\n",
    "\n",
    "    except Exception as e :\n",
    "        #print('Error happened while parsing file', file)\n",
    "        print(e)\n",
    "        return None\n",
    "        \n",
    "    return mel"
   ]
  },
  {
   "cell_type": "code",
   "execution_count": 4,
   "id": "small-education",
   "metadata": {},
   "outputs": [],
   "source": [
    "result = extract_feature_mel('../../../downloaded_audio_clips/street_music.wav')"
   ]
  },
  {
   "cell_type": "code",
   "execution_count": 5,
   "id": "southwest-handle",
   "metadata": {},
   "outputs": [
    {
     "name": "stdout",
     "output_type": "stream",
     "text": [
      "(128, 174)\n"
     ]
    }
   ],
   "source": [
    "print(result.shape)"
   ]
  },
  {
   "cell_type": "code",
   "execution_count": 6,
   "id": "christian-deposit",
   "metadata": {},
   "outputs": [
    {
     "name": "stdout",
     "output_type": "stream",
     "text": [
      "[[7.5772987e-03 3.2140876e-03 6.0848147e-04 ... 0.0000000e+00\n",
      "  0.0000000e+00 0.0000000e+00]\n",
      " [5.7917740e-02 8.8473521e-02 1.6783181e-01 ... 0.0000000e+00\n",
      "  0.0000000e+00 0.0000000e+00]\n",
      " [2.6846144e-01 1.0759641e+00 2.7837169e+00 ... 0.0000000e+00\n",
      "  0.0000000e+00 0.0000000e+00]\n",
      " ...\n",
      " [2.3331563e-06 6.8978993e-06 4.3038081e-06 ... 0.0000000e+00\n",
      "  0.0000000e+00 0.0000000e+00]\n",
      " [3.0570257e-07 1.0448880e-06 5.6614493e-07 ... 0.0000000e+00\n",
      "  0.0000000e+00 0.0000000e+00]\n",
      " [2.6529024e-08 7.4417287e-08 3.4379720e-08 ... 0.0000000e+00\n",
      "  0.0000000e+00 0.0000000e+00]]\n"
     ]
    }
   ],
   "source": [
    "print(result)"
   ]
  },
  {
   "cell_type": "markdown",
   "id": "bright-chemistry",
   "metadata": {},
   "source": [
    "# sathe sathe chroma_stft r taao kore fellam "
   ]
  },
  {
   "cell_type": "code",
   "execution_count": 7,
   "id": "animal-density",
   "metadata": {},
   "outputs": [],
   "source": [
    "def extract_feature_chroma_stft(file):\n",
    "    try:\n",
    "        audio, sr = librosa.load(file, res_type = 'kaiser_fast')\n",
    "        #audio = librosa.effects.harmonic(audio)\n",
    "        chroma = librosa.feature.chroma_stft(y=audio, sr=sr)\n",
    "        pad_width = max_pad_len - chroma.shape[1]\n",
    "        chroma = np.pad(chroma, pad_width = ((0,0), (0,pad_width)), mode = 'constant')\n",
    "        #tonnetz = np.mean(librosa.feature.tonnetz(y=librosa.effects.harmonic(audio),sr=sample_rate).T,axis=0)\n",
    "\n",
    "    except Exception as e :\n",
    "        #print('Error happened while parsing file', file)\n",
    "        print(e)\n",
    "        return None\n",
    "        \n",
    "    return chroma"
   ]
  },
  {
   "cell_type": "code",
   "execution_count": 8,
   "id": "cheap-server",
   "metadata": {},
   "outputs": [],
   "source": [
    "chroma_result = extract_feature_chroma_stft('../../../downloaded_audio_clips/street_music.wav')"
   ]
  },
  {
   "cell_type": "code",
   "execution_count": 9,
   "id": "offshore-secretary",
   "metadata": {},
   "outputs": [
    {
     "name": "stdout",
     "output_type": "stream",
     "text": [
      "(12, 174)\n"
     ]
    }
   ],
   "source": [
    "print(chroma_result.shape)"
   ]
  },
  {
   "cell_type": "code",
   "execution_count": 10,
   "id": "ordinary-drain",
   "metadata": {},
   "outputs": [
    {
     "name": "stdout",
     "output_type": "stream",
     "text": [
      "[[0.0465768  0.07269613 0.13310069 ... 0.         0.         0.        ]\n",
      " [0.06030234 0.0291456  0.01146783 ... 0.         0.         0.        ]\n",
      " [0.23925596 0.07557968 0.04046364 ... 0.         0.         0.        ]\n",
      " ...\n",
      " [0.01421273 0.015153   0.01129387 ... 0.         0.         0.        ]\n",
      " [0.04114164 0.1045249  0.24759142 ... 0.         0.         0.        ]\n",
      " [0.08324129 0.3225774  1.         ... 0.         0.         0.        ]]\n"
     ]
    }
   ],
   "source": [
    "print(chroma_result)"
   ]
  },
  {
   "cell_type": "markdown",
   "id": "partial-input",
   "metadata": {},
   "source": [
    "## ebar abar df er porer portion theke"
   ]
  },
  {
   "cell_type": "markdown",
   "id": "academic-montana",
   "metadata": {},
   "source": [
    "collab theka namaya nisi"
   ]
  },
  {
   "cell_type": "code",
   "execution_count": 11,
   "id": "relative-groove",
   "metadata": {},
   "outputs": [
    {
     "data": {
      "text/plain": [
       "'/home/safat/python_code/audio/audio_processing/codes for UrbanSound8K dataset project/adding_new_feature'"
      ]
     },
     "execution_count": 11,
     "metadata": {},
     "output_type": "execute_result"
    }
   ],
   "source": [
    "pwd"
   ]
  },
  {
   "cell_type": "code",
   "execution_count": 12,
   "id": "attended-sugar",
   "metadata": {},
   "outputs": [],
   "source": [
    "df = pd.read_hdf('../features_from_UrbanSound_for_cnn_for_only_mel.h5', 'df')"
   ]
  },
  {
   "cell_type": "code",
   "execution_count": 13,
   "id": "abstract-certification",
   "metadata": {},
   "outputs": [
    {
     "name": "stdout",
     "output_type": "stream",
     "text": [
      "(8732, 128, 174)\n",
      "(128, 174)\n"
     ]
    }
   ],
   "source": [
    "X = np.array(df.feature.tolist())\n",
    "print(X.shape)\n",
    "print(X[0].shape)"
   ]
  },
  {
   "cell_type": "markdown",
   "id": "retired-census",
   "metadata": {},
   "source": [
    "nice >>> ekhon build model Training model er kaaj"
   ]
  },
  {
   "cell_type": "code",
   "execution_count": 14,
   "id": "interesting-freight",
   "metadata": {},
   "outputs": [],
   "source": [
    "import tensorflow.keras as keras\n",
    "from sklearn.model_selection import train_test_split\n",
    "\n",
    "#convert the data and labels for understandable numerical data\n",
    "from sklearn.preprocessing import LabelEncoder\n",
    "from tensorflow.keras.utils import to_categorical\n",
    "from datetime import datetime"
   ]
  },
  {
   "cell_type": "code",
   "execution_count": 18,
   "id": "perceived-destiny",
   "metadata": {},
   "outputs": [],
   "source": [
    "def prepare_dataset(test_size, validation_size): \t\n",
    "\t#load data\n",
    "\tX = np.array(df.feature.tolist())\n",
    "\ty = np.array(df.class_label.tolist())\n",
    "\t\n",
    "    \n",
    "\tle = LabelEncoder()\n",
    "\ty = to_categorical(le.fit_transform(y))\n",
    "\t\n",
    "\t#create train/test split\n",
    "\tX_train, X_test, y_train, y_test = train_test_split(X,y, test_size = test_size)\n",
    "\t\n",
    "\t#create train/validation split\n",
    "\tX_train, X_validation, y_train, y_validation = train_test_split(X_train, y_train, test_size = validation_size)\n",
    "\n",
    "\t#for CNN tensor flow expects a 3d array -->(130,13,1)\n",
    "\tX_train = X_train[...,np.newaxis] #4d array --> (num_samples, 130, 13,1)\n",
    "\tX_validation = X_validation[...,np.newaxis]\n",
    "\tX_test = X_test[...,np.newaxis]\n",
    "\t\n",
    "\treturn X_train, X_validation, X_test, y_train, y_validation, y_test"
   ]
  },
  {
   "cell_type": "code",
   "execution_count": 19,
   "id": "southwest-argentina",
   "metadata": {},
   "outputs": [
    {
     "name": "stdout",
     "output_type": "stream",
     "text": [
      "2183\n",
      "(2183, 10)\n",
      "(5239, 128, 174, 1)\n",
      "(2183, 128, 174, 1)\n"
     ]
    }
   ],
   "source": [
    "X_train, X_validation, X_test, y_train, y_validation, y_test= prepare_dataset(0.25, 0.2)\n",
    "print(len(y_test))\n",
    "print(y_test.shape)\n",
    "print(X_train.shape)\n",
    "print(X_test.shape)"
   ]
  },
  {
   "cell_type": "code",
   "execution_count": 20,
   "id": "abandoned-airport",
   "metadata": {},
   "outputs": [],
   "source": [
    "def build_model(input_shape):\n",
    "\t\n",
    "\t#create model \n",
    "\tmodel = keras.Sequential()\n",
    "\t#1st conv layer\n",
    "\tmodel.add(keras.layers.Conv2D(32, (3, 3), activation = 'relu', input_shape= input_shape))\n",
    "\tmodel.add(keras.layers.MaxPool2D((3,3), strides = (2,2), padding = 'same'))\n",
    "\tmodel.add(keras.layers.BatchNormalization()) # speed up korbe>> normalise korbe...details bole nai...beginning level e na janleo ok!\n",
    "\t\n",
    "\t\n",
    "\t#param>>filters, kernel_size, \n",
    "\t#2nd conv layer\n",
    "\tmodel.add(keras.layers.Conv2D(32, (3, 3), activation = 'relu', input_shape= input_shape))\n",
    "\t#param>> kernel_size, padding same means zero padding\n",
    "\tmodel.add(keras.layers.MaxPool2D((3,3), strides = (2,2), padding = 'same'))\n",
    "\tmodel.add(keras.layers.BatchNormalization())\n",
    "\t\n",
    "\t\n",
    "\t#3rd conv layer\n",
    "\tmodel.add(keras.layers.Conv2D(32, (2, 2), activation = 'relu', input_shape= input_shape))\n",
    "\tmodel.add(keras.layers.MaxPool2D((2,2), strides = (2,2), padding = 'same'))\n",
    "\tmodel.add(keras.layers.BatchNormalization())\n",
    "\t\n",
    "\t\n",
    "\t#flatten the output and feed it into dense layer\n",
    "\tmodel.add(keras.layers.Flatten())\n",
    "\tmodel.add(keras.layers.Dense(64, activation = 'relu'))\n",
    "\tmodel.add(keras.layers.Dropout(0.3))\n",
    "\t\n",
    "\t#output layer\n",
    "\tmodel.add(keras.layers.Dense(10, activation = 'softmax'))\n",
    "\n",
    "\treturn model\n"
   ]
  },
  {
   "cell_type": "markdown",
   "id": "friendly-shooting",
   "metadata": {},
   "source": [
    "# build the CNN net"
   ]
  },
  {
   "cell_type": "markdown",
   "id": "rocky-immunology",
   "metadata": {},
   "source": [
    "build, train, fit ogula Collab e kore feltesi"
   ]
  },
  {
   "cell_type": "code",
   "execution_count": 21,
   "id": "forward-swedish",
   "metadata": {},
   "outputs": [
    {
     "name": "stdout",
     "output_type": "stream",
     "text": [
      "Model: \"sequential\"\n",
      "_________________________________________________________________\n",
      "Layer (type)                 Output Shape              Param #   \n",
      "=================================================================\n",
      "conv2d (Conv2D)              (None, 126, 172, 32)      320       \n",
      "_________________________________________________________________\n",
      "max_pooling2d (MaxPooling2D) (None, 63, 86, 32)        0         \n",
      "_________________________________________________________________\n",
      "batch_normalization (BatchNo (None, 63, 86, 32)        128       \n",
      "_________________________________________________________________\n",
      "conv2d_1 (Conv2D)            (None, 61, 84, 32)        9248      \n",
      "_________________________________________________________________\n",
      "max_pooling2d_1 (MaxPooling2 (None, 31, 42, 32)        0         \n",
      "_________________________________________________________________\n",
      "batch_normalization_1 (Batch (None, 31, 42, 32)        128       \n",
      "_________________________________________________________________\n",
      "conv2d_2 (Conv2D)            (None, 30, 41, 32)        4128      \n",
      "_________________________________________________________________\n",
      "max_pooling2d_2 (MaxPooling2 (None, 15, 21, 32)        0         \n",
      "_________________________________________________________________\n",
      "batch_normalization_2 (Batch (None, 15, 21, 32)        128       \n",
      "_________________________________________________________________\n",
      "flatten (Flatten)            (None, 10080)             0         \n",
      "_________________________________________________________________\n",
      "dense (Dense)                (None, 64)                645184    \n",
      "_________________________________________________________________\n",
      "dropout (Dropout)            (None, 64)                0         \n",
      "_________________________________________________________________\n",
      "dense_1 (Dense)              (None, 10)                650       \n",
      "=================================================================\n",
      "Total params: 659,914\n",
      "Trainable params: 659,722\n",
      "Non-trainable params: 192\n",
      "_________________________________________________________________\n"
     ]
    }
   ],
   "source": [
    "input_shape = (X_train.shape[1], X_train.shape[2], X_train.shape[3] ) \n",
    "model = build_model(input_shape)\n",
    "\n",
    "#Compile the CNN\n",
    "optimizer = keras.optimizers.Adam(learning_rate = 0.0001)\n",
    "model.compile(optimizer=optimizer, loss= \"categorical_crossentropy\",\n",
    "metrics=['accuracy'])\n",
    "\n",
    "model.summary()"
   ]
  },
  {
   "cell_type": "code",
   "execution_count": 22,
   "id": "psychological-ethics",
   "metadata": {},
   "outputs": [
    {
     "name": "stdout",
     "output_type": "stream",
     "text": [
      "Epoch 1/100\n",
      "164/164 [==============================] - 76s 461ms/step - loss: 2.2807 - accuracy: 0.2333 - val_loss: 1.9887 - val_accuracy: 0.3008\n",
      "Epoch 2/100\n",
      "164/164 [==============================] - 78s 473ms/step - loss: 1.7205 - accuracy: 0.3968 - val_loss: 1.7736 - val_accuracy: 0.3794\n",
      "Epoch 3/100\n",
      "164/164 [==============================] - 71s 431ms/step - loss: 1.5435 - accuracy: 0.4547 - val_loss: 1.7496 - val_accuracy: 0.3542\n",
      "Epoch 4/100\n",
      "164/164 [==============================] - 68s 414ms/step - loss: 1.3987 - accuracy: 0.5108 - val_loss: 2.1479 - val_accuracy: 0.3397\n",
      "Epoch 5/100\n",
      "164/164 [==============================] - 78s 478ms/step - loss: 1.2869 - accuracy: 0.5592 - val_loss: 1.8076 - val_accuracy: 0.3916\n",
      "Epoch 6/100\n",
      "164/164 [==============================] - 79s 480ms/step - loss: 1.2100 - accuracy: 0.5810 - val_loss: 1.4584 - val_accuracy: 0.4573\n",
      "Epoch 7/100\n",
      "164/164 [==============================] - 76s 465ms/step - loss: 1.1184 - accuracy: 0.6043 - val_loss: 1.4721 - val_accuracy: 0.4679\n",
      "Epoch 8/100\n",
      "164/164 [==============================] - 73s 446ms/step - loss: 1.0528 - accuracy: 0.6379 - val_loss: 1.4625 - val_accuracy: 0.4870\n",
      "Epoch 9/100\n",
      "164/164 [==============================] - 75s 459ms/step - loss: 1.0239 - accuracy: 0.6401 - val_loss: 1.2598 - val_accuracy: 0.5649\n",
      "Epoch 10/100\n",
      "164/164 [==============================] - 84s 513ms/step - loss: 0.9582 - accuracy: 0.6719 - val_loss: 1.2908 - val_accuracy: 0.5252\n",
      "Epoch 11/100\n",
      "164/164 [==============================] - 80s 488ms/step - loss: 0.9151 - accuracy: 0.6895 - val_loss: 1.2919 - val_accuracy: 0.5550\n",
      "Epoch 12/100\n",
      "164/164 [==============================] - 83s 507ms/step - loss: 0.9282 - accuracy: 0.6731 - val_loss: 1.1784 - val_accuracy: 0.6000\n",
      "Epoch 13/100\n",
      "164/164 [==============================] - 85s 518ms/step - loss: 0.8325 - accuracy: 0.7195 - val_loss: 1.1868 - val_accuracy: 0.5763\n",
      "Epoch 14/100\n",
      "164/164 [==============================] - 81s 492ms/step - loss: 0.8134 - accuracy: 0.7207 - val_loss: 1.1783 - val_accuracy: 0.5992\n",
      "Epoch 15/100\n",
      "164/164 [==============================] - 70s 429ms/step - loss: 0.8120 - accuracy: 0.7205 - val_loss: 1.1162 - val_accuracy: 0.6550\n",
      "Epoch 16/100\n",
      "164/164 [==============================] - 73s 447ms/step - loss: 0.7948 - accuracy: 0.7416 - val_loss: 1.1587 - val_accuracy: 0.6252\n",
      "Epoch 17/100\n",
      "164/164 [==============================] - 76s 464ms/step - loss: 0.7534 - accuracy: 0.7427 - val_loss: 1.1822 - val_accuracy: 0.5969\n",
      "Epoch 18/100\n",
      "164/164 [==============================] - 81s 492ms/step - loss: 0.6989 - accuracy: 0.7645 - val_loss: 1.0964 - val_accuracy: 0.6359\n",
      "Epoch 19/100\n",
      "164/164 [==============================] - 75s 459ms/step - loss: 0.7172 - accuracy: 0.7576 - val_loss: 1.2061 - val_accuracy: 0.5908\n",
      "Epoch 20/100\n",
      " 13/164 [=>............................] - ETA: 1:16 - loss: 0.6045 - accuracy: 0.7966"
     ]
    },
    {
     "ename": "KeyboardInterrupt",
     "evalue": "",
     "output_type": "error",
     "traceback": [
      "\u001b[0;31m---------------------------------------------------------------------------\u001b[0m",
      "\u001b[0;31mKeyboardInterrupt\u001b[0m                         Traceback (most recent call last)",
      "\u001b[0;32m<ipython-input-22-f6082006ffa1>\u001b[0m in \u001b[0;36m<module>\u001b[0;34m\u001b[0m\n\u001b[1;32m      1\u001b[0m \u001b[0mstart_time\u001b[0m \u001b[0;34m=\u001b[0m \u001b[0mdatetime\u001b[0m\u001b[0;34m.\u001b[0m\u001b[0mnow\u001b[0m\u001b[0;34m(\u001b[0m\u001b[0;34m)\u001b[0m\u001b[0;34m\u001b[0m\u001b[0;34m\u001b[0m\u001b[0m\n\u001b[0;32m----> 2\u001b[0;31m \u001b[0mhistory\u001b[0m \u001b[0;34m=\u001b[0m \u001b[0mmodel\u001b[0m\u001b[0;34m.\u001b[0m\u001b[0mfit\u001b[0m\u001b[0;34m(\u001b[0m\u001b[0mX_train\u001b[0m\u001b[0;34m,\u001b[0m \u001b[0my_train\u001b[0m\u001b[0;34m,\u001b[0m \u001b[0mvalidation_data\u001b[0m \u001b[0;34m=\u001b[0m \u001b[0;34m(\u001b[0m\u001b[0mX_validation\u001b[0m\u001b[0;34m,\u001b[0m \u001b[0my_validation\u001b[0m\u001b[0;34m)\u001b[0m\u001b[0;34m,\u001b[0m \u001b[0mbatch_size\u001b[0m \u001b[0;34m=\u001b[0m \u001b[0;36m32\u001b[0m\u001b[0;34m,\u001b[0m \u001b[0mepochs\u001b[0m \u001b[0;34m=\u001b[0m \u001b[0;36m100\u001b[0m \u001b[0;34m)\u001b[0m\u001b[0;34m\u001b[0m\u001b[0;34m\u001b[0m\u001b[0m\n\u001b[0m\u001b[1;32m      3\u001b[0m \u001b[0mduration\u001b[0m \u001b[0;34m=\u001b[0m \u001b[0mdatetime\u001b[0m\u001b[0;34m.\u001b[0m\u001b[0mnow\u001b[0m\u001b[0;34m(\u001b[0m\u001b[0;34m)\u001b[0m \u001b[0;34m-\u001b[0m \u001b[0mstart_time\u001b[0m\u001b[0;34m\u001b[0m\u001b[0;34m\u001b[0m\u001b[0m\n\u001b[1;32m      4\u001b[0m \u001b[0mprint\u001b[0m\u001b[0;34m(\u001b[0m\u001b[0;34m\"Duration for the train {}\"\u001b[0m\u001b[0;34m.\u001b[0m\u001b[0mformat\u001b[0m\u001b[0;34m(\u001b[0m\u001b[0mduration\u001b[0m\u001b[0;34m)\u001b[0m\u001b[0;34m)\u001b[0m\u001b[0;34m\u001b[0m\u001b[0;34m\u001b[0m\u001b[0m\n\u001b[1;32m      5\u001b[0m \u001b[0mmodel\u001b[0m\u001b[0;34m.\u001b[0m\u001b[0msave\u001b[0m\u001b[0;34m(\u001b[0m\u001b[0;34m'cnn_model_after_training_for_mel.h5'\u001b[0m\u001b[0;34m)\u001b[0m\u001b[0;34m\u001b[0m\u001b[0;34m\u001b[0m\u001b[0m\n",
      "\u001b[0;32m~/.local/lib/python3.8/site-packages/tensorflow/python/keras/engine/training.py\u001b[0m in \u001b[0;36mfit\u001b[0;34m(self, x, y, batch_size, epochs, verbose, callbacks, validation_split, validation_data, shuffle, class_weight, sample_weight, initial_epoch, steps_per_epoch, validation_steps, validation_batch_size, validation_freq, max_queue_size, workers, use_multiprocessing)\u001b[0m\n\u001b[1;32m   1098\u001b[0m                 _r=1):\n\u001b[1;32m   1099\u001b[0m               \u001b[0mcallbacks\u001b[0m\u001b[0;34m.\u001b[0m\u001b[0mon_train_batch_begin\u001b[0m\u001b[0;34m(\u001b[0m\u001b[0mstep\u001b[0m\u001b[0;34m)\u001b[0m\u001b[0;34m\u001b[0m\u001b[0;34m\u001b[0m\u001b[0m\n\u001b[0;32m-> 1100\u001b[0;31m               \u001b[0mtmp_logs\u001b[0m \u001b[0;34m=\u001b[0m \u001b[0mself\u001b[0m\u001b[0;34m.\u001b[0m\u001b[0mtrain_function\u001b[0m\u001b[0;34m(\u001b[0m\u001b[0miterator\u001b[0m\u001b[0;34m)\u001b[0m\u001b[0;34m\u001b[0m\u001b[0;34m\u001b[0m\u001b[0m\n\u001b[0m\u001b[1;32m   1101\u001b[0m               \u001b[0;32mif\u001b[0m \u001b[0mdata_handler\u001b[0m\u001b[0;34m.\u001b[0m\u001b[0mshould_sync\u001b[0m\u001b[0;34m:\u001b[0m\u001b[0;34m\u001b[0m\u001b[0;34m\u001b[0m\u001b[0m\n\u001b[1;32m   1102\u001b[0m                 \u001b[0mcontext\u001b[0m\u001b[0;34m.\u001b[0m\u001b[0masync_wait\u001b[0m\u001b[0;34m(\u001b[0m\u001b[0;34m)\u001b[0m\u001b[0;34m\u001b[0m\u001b[0;34m\u001b[0m\u001b[0m\n",
      "\u001b[0;32m~/.local/lib/python3.8/site-packages/tensorflow/python/eager/def_function.py\u001b[0m in \u001b[0;36m__call__\u001b[0;34m(self, *args, **kwds)\u001b[0m\n\u001b[1;32m    826\u001b[0m     \u001b[0mtracing_count\u001b[0m \u001b[0;34m=\u001b[0m \u001b[0mself\u001b[0m\u001b[0;34m.\u001b[0m\u001b[0mexperimental_get_tracing_count\u001b[0m\u001b[0;34m(\u001b[0m\u001b[0;34m)\u001b[0m\u001b[0;34m\u001b[0m\u001b[0;34m\u001b[0m\u001b[0m\n\u001b[1;32m    827\u001b[0m     \u001b[0;32mwith\u001b[0m \u001b[0mtrace\u001b[0m\u001b[0;34m.\u001b[0m\u001b[0mTrace\u001b[0m\u001b[0;34m(\u001b[0m\u001b[0mself\u001b[0m\u001b[0;34m.\u001b[0m\u001b[0m_name\u001b[0m\u001b[0;34m)\u001b[0m \u001b[0;32mas\u001b[0m \u001b[0mtm\u001b[0m\u001b[0;34m:\u001b[0m\u001b[0;34m\u001b[0m\u001b[0;34m\u001b[0m\u001b[0m\n\u001b[0;32m--> 828\u001b[0;31m       \u001b[0mresult\u001b[0m \u001b[0;34m=\u001b[0m \u001b[0mself\u001b[0m\u001b[0;34m.\u001b[0m\u001b[0m_call\u001b[0m\u001b[0;34m(\u001b[0m\u001b[0;34m*\u001b[0m\u001b[0margs\u001b[0m\u001b[0;34m,\u001b[0m \u001b[0;34m**\u001b[0m\u001b[0mkwds\u001b[0m\u001b[0;34m)\u001b[0m\u001b[0;34m\u001b[0m\u001b[0;34m\u001b[0m\u001b[0m\n\u001b[0m\u001b[1;32m    829\u001b[0m       \u001b[0mcompiler\u001b[0m \u001b[0;34m=\u001b[0m \u001b[0;34m\"xla\"\u001b[0m \u001b[0;32mif\u001b[0m \u001b[0mself\u001b[0m\u001b[0;34m.\u001b[0m\u001b[0m_experimental_compile\u001b[0m \u001b[0;32melse\u001b[0m \u001b[0;34m\"nonXla\"\u001b[0m\u001b[0;34m\u001b[0m\u001b[0;34m\u001b[0m\u001b[0m\n\u001b[1;32m    830\u001b[0m       \u001b[0mnew_tracing_count\u001b[0m \u001b[0;34m=\u001b[0m \u001b[0mself\u001b[0m\u001b[0;34m.\u001b[0m\u001b[0mexperimental_get_tracing_count\u001b[0m\u001b[0;34m(\u001b[0m\u001b[0;34m)\u001b[0m\u001b[0;34m\u001b[0m\u001b[0;34m\u001b[0m\u001b[0m\n",
      "\u001b[0;32m~/.local/lib/python3.8/site-packages/tensorflow/python/eager/def_function.py\u001b[0m in \u001b[0;36m_call\u001b[0;34m(self, *args, **kwds)\u001b[0m\n\u001b[1;32m    853\u001b[0m       \u001b[0;31m# In this case we have created variables on the first call, so we run the\u001b[0m\u001b[0;34m\u001b[0m\u001b[0;34m\u001b[0m\u001b[0;34m\u001b[0m\u001b[0m\n\u001b[1;32m    854\u001b[0m       \u001b[0;31m# defunned version which is guaranteed to never create variables.\u001b[0m\u001b[0;34m\u001b[0m\u001b[0;34m\u001b[0m\u001b[0;34m\u001b[0m\u001b[0m\n\u001b[0;32m--> 855\u001b[0;31m       \u001b[0;32mreturn\u001b[0m \u001b[0mself\u001b[0m\u001b[0;34m.\u001b[0m\u001b[0m_stateless_fn\u001b[0m\u001b[0;34m(\u001b[0m\u001b[0;34m*\u001b[0m\u001b[0margs\u001b[0m\u001b[0;34m,\u001b[0m \u001b[0;34m**\u001b[0m\u001b[0mkwds\u001b[0m\u001b[0;34m)\u001b[0m  \u001b[0;31m# pylint: disable=not-callable\u001b[0m\u001b[0;34m\u001b[0m\u001b[0;34m\u001b[0m\u001b[0m\n\u001b[0m\u001b[1;32m    856\u001b[0m     \u001b[0;32melif\u001b[0m \u001b[0mself\u001b[0m\u001b[0;34m.\u001b[0m\u001b[0m_stateful_fn\u001b[0m \u001b[0;32mis\u001b[0m \u001b[0;32mnot\u001b[0m \u001b[0;32mNone\u001b[0m\u001b[0;34m:\u001b[0m\u001b[0;34m\u001b[0m\u001b[0;34m\u001b[0m\u001b[0m\n\u001b[1;32m    857\u001b[0m       \u001b[0;31m# Release the lock early so that multiple threads can perform the call\u001b[0m\u001b[0;34m\u001b[0m\u001b[0;34m\u001b[0m\u001b[0;34m\u001b[0m\u001b[0m\n",
      "\u001b[0;32m~/.local/lib/python3.8/site-packages/tensorflow/python/eager/function.py\u001b[0m in \u001b[0;36m__call__\u001b[0;34m(self, *args, **kwargs)\u001b[0m\n\u001b[1;32m   2940\u001b[0m       (graph_function,\n\u001b[1;32m   2941\u001b[0m        filtered_flat_args) = self._maybe_define_function(args, kwargs)\n\u001b[0;32m-> 2942\u001b[0;31m     return graph_function._call_flat(\n\u001b[0m\u001b[1;32m   2943\u001b[0m         filtered_flat_args, captured_inputs=graph_function.captured_inputs)  # pylint: disable=protected-access\n\u001b[1;32m   2944\u001b[0m \u001b[0;34m\u001b[0m\u001b[0m\n",
      "\u001b[0;32m~/.local/lib/python3.8/site-packages/tensorflow/python/eager/function.py\u001b[0m in \u001b[0;36m_call_flat\u001b[0;34m(self, args, captured_inputs, cancellation_manager)\u001b[0m\n\u001b[1;32m   1916\u001b[0m         and executing_eagerly):\n\u001b[1;32m   1917\u001b[0m       \u001b[0;31m# No tape is watching; skip to running the function.\u001b[0m\u001b[0;34m\u001b[0m\u001b[0;34m\u001b[0m\u001b[0;34m\u001b[0m\u001b[0m\n\u001b[0;32m-> 1918\u001b[0;31m       return self._build_call_outputs(self._inference_function.call(\n\u001b[0m\u001b[1;32m   1919\u001b[0m           ctx, args, cancellation_manager=cancellation_manager))\n\u001b[1;32m   1920\u001b[0m     forward_backward = self._select_forward_and_backward_functions(\n",
      "\u001b[0;32m~/.local/lib/python3.8/site-packages/tensorflow/python/eager/function.py\u001b[0m in \u001b[0;36mcall\u001b[0;34m(self, ctx, args, cancellation_manager)\u001b[0m\n\u001b[1;32m    553\u001b[0m       \u001b[0;32mwith\u001b[0m \u001b[0m_InterpolateFunctionError\u001b[0m\u001b[0;34m(\u001b[0m\u001b[0mself\u001b[0m\u001b[0;34m)\u001b[0m\u001b[0;34m:\u001b[0m\u001b[0;34m\u001b[0m\u001b[0;34m\u001b[0m\u001b[0m\n\u001b[1;32m    554\u001b[0m         \u001b[0;32mif\u001b[0m \u001b[0mcancellation_manager\u001b[0m \u001b[0;32mis\u001b[0m \u001b[0;32mNone\u001b[0m\u001b[0;34m:\u001b[0m\u001b[0;34m\u001b[0m\u001b[0;34m\u001b[0m\u001b[0m\n\u001b[0;32m--> 555\u001b[0;31m           outputs = execute.execute(\n\u001b[0m\u001b[1;32m    556\u001b[0m               \u001b[0mstr\u001b[0m\u001b[0;34m(\u001b[0m\u001b[0mself\u001b[0m\u001b[0;34m.\u001b[0m\u001b[0msignature\u001b[0m\u001b[0;34m.\u001b[0m\u001b[0mname\u001b[0m\u001b[0;34m)\u001b[0m\u001b[0;34m,\u001b[0m\u001b[0;34m\u001b[0m\u001b[0;34m\u001b[0m\u001b[0m\n\u001b[1;32m    557\u001b[0m               \u001b[0mnum_outputs\u001b[0m\u001b[0;34m=\u001b[0m\u001b[0mself\u001b[0m\u001b[0;34m.\u001b[0m\u001b[0m_num_outputs\u001b[0m\u001b[0;34m,\u001b[0m\u001b[0;34m\u001b[0m\u001b[0;34m\u001b[0m\u001b[0m\n",
      "\u001b[0;32m~/.local/lib/python3.8/site-packages/tensorflow/python/eager/execute.py\u001b[0m in \u001b[0;36mquick_execute\u001b[0;34m(op_name, num_outputs, inputs, attrs, ctx, name)\u001b[0m\n\u001b[1;32m     57\u001b[0m   \u001b[0;32mtry\u001b[0m\u001b[0;34m:\u001b[0m\u001b[0;34m\u001b[0m\u001b[0;34m\u001b[0m\u001b[0m\n\u001b[1;32m     58\u001b[0m     \u001b[0mctx\u001b[0m\u001b[0;34m.\u001b[0m\u001b[0mensure_initialized\u001b[0m\u001b[0;34m(\u001b[0m\u001b[0;34m)\u001b[0m\u001b[0;34m\u001b[0m\u001b[0;34m\u001b[0m\u001b[0m\n\u001b[0;32m---> 59\u001b[0;31m     tensors = pywrap_tfe.TFE_Py_Execute(ctx._handle, device_name, op_name,\n\u001b[0m\u001b[1;32m     60\u001b[0m                                         inputs, attrs, num_outputs)\n\u001b[1;32m     61\u001b[0m   \u001b[0;32mexcept\u001b[0m \u001b[0mcore\u001b[0m\u001b[0;34m.\u001b[0m\u001b[0m_NotOkStatusException\u001b[0m \u001b[0;32mas\u001b[0m \u001b[0me\u001b[0m\u001b[0;34m:\u001b[0m\u001b[0;34m\u001b[0m\u001b[0;34m\u001b[0m\u001b[0m\n",
      "\u001b[0;31mKeyboardInterrupt\u001b[0m: "
     ]
    }
   ],
   "source": [
    "start_time = datetime.now()\n",
    "history = model.fit(X_train, y_train, validation_data = (X_validation, y_validation), batch_size = 32, epochs = 100 )\n",
    "duration = datetime.now() - start_time\n",
    "print(\"Duration for the train {}\".format(duration))\n",
    "model.save('cnn_model_after_training_for_mel.h5')"
   ]
  },
  {
   "cell_type": "code",
   "execution_count": null,
   "id": "neutral-passenger",
   "metadata": {},
   "outputs": [],
   "source": [
    "score = model.evaluate(X_train, y_train, verbose=1)\n",
    "print(\"Training Accuracy: \", score[1])\n",
    "test_error, test_accuracy = model.evaluate(X_test, y_test, verbose = 1)\n",
    "print(\"Accuracy on test set is : {}\". format(test_accuracy))"
   ]
  },
  {
   "cell_type": "code",
   "execution_count": null,
   "id": "complicated-zealand",
   "metadata": {},
   "outputs": [],
   "source": [
    "import matplotlib.pyplot as plt\n",
    "def plot_history(history):\n",
    "\n",
    "  fig, axs = plt.subplots(2,1, figsize=(13,13))\n",
    "  plt.style.use('ggplot')\n",
    "\n",
    "\t#create accuracy subplots\n",
    "  axs[0].plot(history.history[\"accuracy\"], label=\"train accuracy\")\n",
    "  axs[0].plot(history.history[\"val_accuracy\"], label=\"test accuracy\")\n",
    "  axs[0].set_ylabel(\"Accuracy\")\n",
    "  axs[0].set_xlabel(\"Epoch\")\n",
    "  axs[0].legend(loc=\"lower right\")\n",
    "  axs[0].set_title(\"Accuracy evaluation(mel)\")\n",
    "\t\n",
    "\t#create error subplots\n",
    "  axs[1].plot(history.history[\"loss\"], label=\"train error\")\n",
    "  axs[1].plot(history.history[\"val_loss\"], label=\"test error\")\n",
    "  axs[1].set_ylabel(\"Error\")\n",
    "  axs[1].set_xlabel(\"Epoch\")\n",
    "  axs[1].legend(loc=\"lower left\")\n",
    "  axs[1].set_title(\"Error evaluation(mel)\")\n",
    "  \n",
    "  plt.show()"
   ]
  }
 ],
 "metadata": {
  "kernelspec": {
   "display_name": "Python 3",
   "language": "python",
   "name": "python3"
  },
  "language_info": {
   "codemirror_mode": {
    "name": "ipython",
    "version": 3
   },
   "file_extension": ".py",
   "mimetype": "text/x-python",
   "name": "python",
   "nbconvert_exporter": "python",
   "pygments_lexer": "ipython3",
   "version": "3.8.10"
  }
 },
 "nbformat": 4,
 "nbformat_minor": 5
}
