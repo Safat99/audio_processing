{
 "cells": [
  {
   "cell_type": "code",
   "execution_count": 2,
   "id": "authentic-travel",
   "metadata": {},
   "outputs": [],
   "source": [
    "import numpy as np\n",
    "import pandas as pd\n",
    "import tensorflow.keras as keras\n",
    "from sklearn.model_selection import train_test_split\n",
    "\n",
    "#convert the data and labels for understandable numerical data\n",
    "from sklearn.preprocessing import LabelEncoder\n",
    "from tensorflow.keras.utils import to_categorical\n",
    "from datetime import datetime"
   ]
  },
  {
   "cell_type": "code",
   "execution_count": 3,
   "id": "absolute-azerbaijan",
   "metadata": {},
   "outputs": [],
   "source": [
    "df = pd.read_hdf('../features_from_UrbanSound_for_cnn.h5', 'df')"
   ]
  },
  {
   "cell_type": "code",
   "execution_count": 4,
   "id": "strong-angle",
   "metadata": {},
   "outputs": [
    {
     "data": {
      "text/html": [
       "<div>\n",
       "<style scoped>\n",
       "    .dataframe tbody tr th:only-of-type {\n",
       "        vertical-align: middle;\n",
       "    }\n",
       "\n",
       "    .dataframe tbody tr th {\n",
       "        vertical-align: top;\n",
       "    }\n",
       "\n",
       "    .dataframe thead th {\n",
       "        text-align: right;\n",
       "    }\n",
       "</style>\n",
       "<table border=\"1\" class=\"dataframe\">\n",
       "  <thead>\n",
       "    <tr style=\"text-align: right;\">\n",
       "      <th></th>\n",
       "      <th>feature</th>\n",
       "      <th>class_label</th>\n",
       "    </tr>\n",
       "  </thead>\n",
       "  <tbody>\n",
       "    <tr>\n",
       "      <th>0</th>\n",
       "      <td>[[-306.77255, -177.59209, -99.13616, -65.97198...</td>\n",
       "      <td>dog_bark</td>\n",
       "    </tr>\n",
       "    <tr>\n",
       "      <th>1</th>\n",
       "      <td>[[-457.69534, -451.0248, -450.68613, -445.0000...</td>\n",
       "      <td>children_playing</td>\n",
       "    </tr>\n",
       "    <tr>\n",
       "      <th>2</th>\n",
       "      <td>[[-468.0367, -467.42264, -481.04654, -486.5948...</td>\n",
       "      <td>children_playing</td>\n",
       "    </tr>\n",
       "    <tr>\n",
       "      <th>3</th>\n",
       "      <td>[[-422.42215, -411.9085, -409.46243, -409.0892...</td>\n",
       "      <td>children_playing</td>\n",
       "    </tr>\n",
       "    <tr>\n",
       "      <th>4</th>\n",
       "      <td>[[-438.10162, -434.47787, -443.3284, -442.6643...</td>\n",
       "      <td>children_playing</td>\n",
       "    </tr>\n",
       "    <tr>\n",
       "      <th>...</th>\n",
       "      <td>...</td>\n",
       "      <td>...</td>\n",
       "    </tr>\n",
       "    <tr>\n",
       "      <th>8727</th>\n",
       "      <td>[[-397.82446, -400.45578, -407.50354, -408.952...</td>\n",
       "      <td>car_horn</td>\n",
       "    </tr>\n",
       "    <tr>\n",
       "      <th>8728</th>\n",
       "      <td>[[-451.81265, -451.41983, -450.67892, -445.635...</td>\n",
       "      <td>car_horn</td>\n",
       "    </tr>\n",
       "    <tr>\n",
       "      <th>8729</th>\n",
       "      <td>[[-301.06348, -298.25397, -305.0326, -303.8614...</td>\n",
       "      <td>car_horn</td>\n",
       "    </tr>\n",
       "    <tr>\n",
       "      <th>8730</th>\n",
       "      <td>[[-373.6307, -369.44986, -366.48, -364.9094, -...</td>\n",
       "      <td>car_horn</td>\n",
       "    </tr>\n",
       "    <tr>\n",
       "      <th>8731</th>\n",
       "      <td>[[-309.34647, -305.3132, -308.23593, -308.1856...</td>\n",
       "      <td>car_horn</td>\n",
       "    </tr>\n",
       "  </tbody>\n",
       "</table>\n",
       "<p>8732 rows × 2 columns</p>\n",
       "</div>"
      ],
      "text/plain": [
       "                                                feature       class_label\n",
       "0     [[-306.77255, -177.59209, -99.13616, -65.97198...          dog_bark\n",
       "1     [[-457.69534, -451.0248, -450.68613, -445.0000...  children_playing\n",
       "2     [[-468.0367, -467.42264, -481.04654, -486.5948...  children_playing\n",
       "3     [[-422.42215, -411.9085, -409.46243, -409.0892...  children_playing\n",
       "4     [[-438.10162, -434.47787, -443.3284, -442.6643...  children_playing\n",
       "...                                                 ...               ...\n",
       "8727  [[-397.82446, -400.45578, -407.50354, -408.952...          car_horn\n",
       "8728  [[-451.81265, -451.41983, -450.67892, -445.635...          car_horn\n",
       "8729  [[-301.06348, -298.25397, -305.0326, -303.8614...          car_horn\n",
       "8730  [[-373.6307, -369.44986, -366.48, -364.9094, -...          car_horn\n",
       "8731  [[-309.34647, -305.3132, -308.23593, -308.1856...          car_horn\n",
       "\n",
       "[8732 rows x 2 columns]"
      ]
     },
     "execution_count": 4,
     "metadata": {},
     "output_type": "execute_result"
    }
   ],
   "source": [
    "df"
   ]
  },
  {
   "cell_type": "code",
   "execution_count": 17,
   "id": "separated-taiwan",
   "metadata": {},
   "outputs": [
    {
     "name": "stdout",
     "output_type": "stream",
     "text": [
      "(8732, 2)\n",
      "(8732,)\n"
     ]
    }
   ],
   "source": [
    "print(df.shape)\n",
    "print(df.feature.shape)"
   ]
  },
  {
   "cell_type": "code",
   "execution_count": 22,
   "id": "constitutional-trauma",
   "metadata": {},
   "outputs": [
    {
     "name": "stdout",
     "output_type": "stream",
     "text": [
      "(8732, 40, 174)\n",
      "(40, 174)\n"
     ]
    }
   ],
   "source": [
    "X = np.array(df.feature.tolist())\n",
    "print(X.shape)\n",
    "print(X[0].shape)"
   ]
  },
  {
   "cell_type": "markdown",
   "id": "promotional-blank",
   "metadata": {},
   "source": [
    "### For Training"
   ]
  },
  {
   "cell_type": "code",
   "execution_count": 17,
   "id": "sonic-layout",
   "metadata": {},
   "outputs": [],
   "source": [
    "def prepare_dataset(test_size, validation_size): \t\n",
    "\t#load data\n",
    "\tX = np.array(df.feature.tolist())\n",
    "\ty = np.array(df.class_label.tolist())\n",
    "\t\n",
    "    \n",
    "\tle = LabelEncoder()\n",
    "\ty = to_categorical(le.fit_transform(y))\n",
    "\t\n",
    "\t#create train/test split\n",
    "\tX_train, X_test, y_train, y_test = train_test_split(X,y, test_size = test_size)\n",
    "\t\n",
    "\t#create train/validation split\n",
    "\tX_train, X_validation, y_train, y_validation = train_test_split(X_train, y_train, test_size = validation_size)\n",
    "\n",
    "\t#for CNN tensor flow expects a 3d array -->(130,13,1)\n",
    "\tX_train = X_train[...,np.newaxis] #4d array --> (num_samples, 130, 13,1)\n",
    "\tX_validation = X_validation[...,np.newaxis]\n",
    "\tX_test = X_test[...,np.newaxis]\n",
    "\t\n",
    "\treturn X_train, X_validation, X_test, y_train, y_validation, y_test"
   ]
  },
  {
   "cell_type": "code",
   "execution_count": 18,
   "id": "centered-annotation",
   "metadata": {},
   "outputs": [
    {
     "name": "stdout",
     "output_type": "stream",
     "text": [
      "(8732, 40, 174)\n",
      "(40, 174)\n"
     ]
    }
   ],
   "source": [
    "X_train, X_validation, X_test, y_train, y_validation, y_test= prepare_dataset(0.25, 0.2)"
   ]
  },
  {
   "cell_type": "code",
   "execution_count": 9,
   "id": "confirmed-recorder",
   "metadata": {},
   "outputs": [
    {
     "name": "stdout",
     "output_type": "stream",
     "text": [
      "2183\n",
      "(2183, 10)\n",
      "(5239, 40, 174, 1)\n",
      "(2183, 40, 174, 1)\n"
     ]
    }
   ],
   "source": [
    "\tprint(len(y_test))\n",
    "\tprint(y_test.shape)\n",
    "\tprint(X_train.shape)\n",
    "\tprint(X_test.shape)"
   ]
  },
  {
   "cell_type": "code",
   "execution_count": null,
   "id": "difficult-danish",
   "metadata": {},
   "outputs": [],
   "source": []
  }
 ],
 "metadata": {
  "kernelspec": {
   "display_name": "Python 3",
   "language": "python",
   "name": "python3"
  },
  "language_info": {
   "codemirror_mode": {
    "name": "ipython",
    "version": 3
   },
   "file_extension": ".py",
   "mimetype": "text/x-python",
   "name": "python",
   "nbconvert_exporter": "python",
   "pygments_lexer": "ipython3",
   "version": "3.8.10"
  }
 },
 "nbformat": 4,
 "nbformat_minor": 5
}
