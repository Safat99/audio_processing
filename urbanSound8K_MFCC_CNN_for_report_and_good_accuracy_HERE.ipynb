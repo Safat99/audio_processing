{
 "cells": [
  {
   "cell_type": "code",
   "execution_count": 1,
   "metadata": {
    "id": "9vCERugUmBWu"
   },
   "outputs": [],
   "source": [
    "import numpy as np\n",
    "import tensorflow as tf\n",
    "from tensorflow import keras\n",
    "import librosa\n",
    "import pandas as pd\n",
    "import os\n",
    "from datetime import datetime\n",
    "\n",
    "\n",
    "#convert the data and labels for understandable numerical data\n",
    "from sklearn.preprocessing import LabelEncoder\n",
    "from tensorflow.keras.utils import to_categorical\n",
    "from sklearn.model_selection import train_test_split\n"
   ]
  },
  {
   "cell_type": "code",
   "execution_count": 2,
   "metadata": {
    "id": "98AduUGkocDx"
   },
   "outputs": [],
   "source": [
    "#extract feature from the given audio\n",
    "def extract_feature(file):\n",
    "  max_pad_len = 174\n",
    "  try:\n",
    "    audio, sr = librosa.load(file, res_type = 'kaiser_fast')\n",
    "    mfccs = librosa.feature.mfcc(audio, sr = sr, n_mfcc =40)\n",
    "    pad_width = max_pad_len - mfccs.shape[1]\n",
    "    mfccs = np.pad(mfccs, pad_width =((0,0), (0,pad_width)), mode = 'constant')\n",
    "\n",
    "  except Exception as e:\n",
    "    print(\"Error happened while parsing the file\", file)\n",
    "    return None\n",
    "\t\t\n",
    "  return mfccs\n"
   ]
  },
  {
   "cell_type": "code",
   "execution_count": 3,
   "metadata": {
    "id": "sJOb5ldau_j5"
   },
   "outputs": [],
   "source": [
    "features = []\n",
    "def extract_feature_all():\n",
    "\t\n",
    "\tstart_time = datetime.now()\n",
    "\tfor index, row in metadata.head(100).iterrows():\n",
    "\t\taudio_file_name = os.path.join(os.path.abspath(full_dataset_path) , 'fold' + str(row['fold']) + '/' + str(row['slice_file_name']))\n",
    "\t\t\n",
    "\t\tclass_label = row['class_name']\n",
    "\t\tdata = extract_feature(audio_file_name)\n",
    "\t\t\n",
    "\t\tfeatures.append([data, class_label])\n",
    "\t\tprint(\"loaded {} file \".format(index))\n",
    "\t\n",
    "\tfeaturesdf = pd.DataFrame(features, columns = ['feature', 'class_label'])\n",
    "\tloaded_time = datetime.now() - start_time\n",
    "\tprint(\"total {} files loaded by taking {} time\".format(len(featuresdf), loaded_time))\n",
    "\t\n",
    "\treturn featuresdf"
   ]
  },
  {
   "cell_type": "code",
   "execution_count": null,
   "metadata": {
    "colab": {
     "base_uri": "https://localhost:8080/"
    },
    "id": "h4Yfd9al-zqH",
    "outputId": "68473a22-12d6-4fc5-bd2a-45844e86d600"
   },
   "outputs": [
    {
     "name": "stdout",
     "output_type": "stream",
     "text": [
      "/content/drive/MyDrive/datasets/UrbanSound8K\n"
     ]
    }
   ],
   "source": [
    "%cd /content/drive/MyDrive/datasets/UrbanSound8K/"
   ]
  },
  {
   "cell_type": "code",
   "execution_count": null,
   "metadata": {
    "id": "XQc4tYtNvOHa"
   },
   "outputs": [],
   "source": [
    "full_dataset_path = os.path.abspath('/content/drive/MyDrive/datasets/UrbanSound8K/audio')\n",
    "metadata = pd.read_csv('/content/drive/MyDrive/datasets/UrbanSound8K/metadata/UrbanSound8K.csv')"
   ]
  },
  {
   "cell_type": "code",
   "execution_count": null,
   "metadata": {
    "colab": {
     "base_uri": "https://localhost:8080/"
    },
    "id": "u2uf1zdwBUZq",
    "outputId": "7c9c6e67-5dd3-40da-ab0a-cf48fc360727"
   },
   "outputs": [
    {
     "name": "stdout",
     "output_type": "stream",
     "text": [
      "      slice_file_name  fold        class_name\n",
      "0    100032-3-0-0.wav     5          dog_bark\n",
      "1  100263-2-0-117.wav     5  children_playing\n",
      "2  100263-2-0-121.wav     5  children_playing\n",
      "3  100263-2-0-126.wav     5  children_playing\n",
      "4  100263-2-0-137.wav     5  children_playing\n"
     ]
    }
   ],
   "source": [
    "metadata = metadata[['slice_file_name', 'fold', 'class_name']]\n",
    "print(metadata.head(5))"
   ]
  },
  {
   "cell_type": "code",
   "execution_count": null,
   "metadata": {
    "colab": {
     "base_uri": "https://localhost:8080/"
    },
    "id": "6Aw3OUBSwHCB",
    "outputId": "17c0ae75-1396-40fc-db3b-cb7fd4577890"
   },
   "outputs": [
    {
     "name": "stdout",
     "output_type": "stream",
     "text": [
      "loaded 0 file \n",
      "loaded 1 file \n",
      "loaded 2 file \n",
      "loaded 3 file \n",
      "loaded 4 file \n",
      "loaded 5 file \n",
      "loaded 6 file \n",
      "loaded 7 file \n",
      "loaded 8 file \n",
      "loaded 9 file \n",
      "loaded 10 file \n",
      "loaded 11 file \n",
      "loaded 12 file \n",
      "loaded 13 file \n",
      "loaded 14 file \n",
      "loaded 15 file \n",
      "loaded 16 file \n",
      "loaded 17 file \n",
      "loaded 18 file \n",
      "loaded 19 file \n",
      "loaded 20 file \n",
      "loaded 21 file \n",
      "loaded 22 file \n",
      "loaded 23 file \n",
      "loaded 24 file \n",
      "loaded 25 file \n",
      "loaded 26 file \n",
      "loaded 27 file \n",
      "loaded 28 file \n",
      "loaded 29 file \n",
      "loaded 30 file \n",
      "loaded 31 file \n",
      "loaded 32 file \n",
      "loaded 33 file \n",
      "loaded 34 file \n",
      "loaded 35 file \n",
      "loaded 36 file \n",
      "loaded 37 file \n",
      "loaded 38 file \n",
      "loaded 39 file \n",
      "loaded 40 file \n",
      "loaded 41 file \n",
      "loaded 42 file \n",
      "loaded 43 file \n",
      "loaded 44 file \n",
      "loaded 45 file \n",
      "loaded 46 file \n",
      "loaded 47 file \n",
      "loaded 48 file \n",
      "loaded 49 file \n",
      "loaded 50 file \n",
      "loaded 51 file \n",
      "loaded 52 file \n",
      "loaded 53 file \n",
      "loaded 54 file \n",
      "loaded 55 file \n",
      "loaded 56 file \n",
      "loaded 57 file \n",
      "loaded 58 file \n",
      "loaded 59 file \n",
      "loaded 60 file \n",
      "loaded 61 file \n",
      "loaded 62 file \n",
      "loaded 63 file \n",
      "loaded 64 file \n",
      "loaded 65 file \n",
      "loaded 66 file \n",
      "loaded 67 file \n",
      "loaded 68 file \n",
      "loaded 69 file \n",
      "loaded 70 file \n",
      "loaded 71 file \n",
      "loaded 72 file \n",
      "loaded 73 file \n",
      "loaded 74 file \n",
      "loaded 75 file \n",
      "loaded 76 file \n",
      "loaded 77 file \n",
      "loaded 78 file \n",
      "loaded 79 file \n",
      "loaded 80 file \n",
      "loaded 81 file \n",
      "loaded 82 file \n",
      "loaded 83 file \n",
      "loaded 84 file \n",
      "loaded 85 file \n",
      "loaded 86 file \n",
      "loaded 87 file \n",
      "loaded 88 file \n",
      "loaded 89 file \n",
      "loaded 90 file \n",
      "loaded 91 file \n",
      "loaded 92 file \n",
      "loaded 93 file \n",
      "loaded 94 file \n",
      "loaded 95 file \n",
      "loaded 96 file \n",
      "loaded 97 file \n",
      "loaded 98 file \n",
      "loaded 99 file \n",
      "total 100 files loaded by taking 0:00:07.939811 time\n"
     ]
    }
   ],
   "source": [
    "df = extract_feature_all()\n",
    "# df.to_hdf('features_from_UrbanSound_for_cnn_by_mfcc.h5', key='df',mode='w')"
   ]
  },
  {
   "cell_type": "code",
   "execution_count": 4,
   "metadata": {},
   "outputs": [],
   "source": [
    "df = pd.read_hdf('features_from_UrbanSound_for_cnn.h5')"
   ]
  },
  {
   "cell_type": "code",
   "execution_count": 5,
   "metadata": {
    "colab": {
     "base_uri": "https://localhost:8080/"
    },
    "id": "NTBdmCLRDz9u",
    "outputId": "c2a0950f-fb7e-4f35-808a-9ac9aca22a96"
   },
   "outputs": [
    {
     "name": "stdout",
     "output_type": "stream",
     "text": [
      "(8732, 2)\n",
      "(40, 174)\n",
      "                                             feature       class_label\n",
      "0  [[-306.77255, -177.59209, -99.13616, -65.97198...          dog_bark\n",
      "1  [[-457.69534, -451.0248, -450.68613, -445.0000...  children_playing\n",
      "2  [[-468.0367, -467.42264, -481.04654, -486.5948...  children_playing\n",
      "3  [[-422.42215, -411.9085, -409.46243, -409.0892...  children_playing\n",
      "4  [[-438.10162, -434.47787, -443.3284, -442.6643...  children_playing\n"
     ]
    }
   ],
   "source": [
    "print(df.shape)\n",
    "print(df.feature[0].shape)\n",
    "print(df.head(5))"
   ]
  },
  {
   "cell_type": "code",
   "execution_count": null,
   "metadata": {
    "id": "cZNZb2htBbZ6"
   },
   "outputs": [],
   "source": [
    "df.to_csv('mfcc_cnn.csv',index=False)"
   ]
  },
  {
   "cell_type": "code",
   "execution_count": null,
   "metadata": {
    "colab": {
     "base_uri": "https://localhost:8080/",
     "height": 303
    },
    "id": "-edR198oqcNR",
    "outputId": "e20be2dc-4e43-443a-875d-4f86e732708b"
   },
   "outputs": [
    {
     "name": "stdout",
     "output_type": "stream",
     "text": [
      "Requirement already satisfied: tables in /usr/local/lib/python3.7/dist-packages (3.4.4)\n",
      "Collecting tables\n",
      "  Downloading tables-3.6.1-cp37-cp37m-manylinux1_x86_64.whl (4.3 MB)\n",
      "\u001b[K     |████████████████████████████████| 4.3 MB 8.6 MB/s \n",
      "\u001b[?25hRequirement already satisfied: numexpr>=2.6.2 in /usr/local/lib/python3.7/dist-packages (from tables) (2.7.3)\n",
      "Requirement already satisfied: numpy>=1.9.3 in /usr/local/lib/python3.7/dist-packages (from tables) (1.19.5)\n",
      "Installing collected packages: tables\n",
      "  Attempting uninstall: tables\n",
      "    Found existing installation: tables 3.4.4\n",
      "    Uninstalling tables-3.4.4:\n",
      "      Successfully uninstalled tables-3.4.4\n",
      "Successfully installed tables-3.6.1\n"
     ]
    },
    {
     "data": {
      "application/vnd.colab-display-data+json": {
       "pip_warning": {
        "packages": [
         "tables"
        ]
       }
      }
     },
     "metadata": {
      "tags": []
     },
     "output_type": "display_data"
    }
   ],
   "source": [
    "pip install --upgrade tables"
   ]
  },
  {
   "cell_type": "code",
   "execution_count": null,
   "metadata": {
    "id": "RbPpZDFytu5m"
   },
   "outputs": [],
   "source": [
    "# df = pd.read_hdf('/content/drive/MyDrive/datasets/features_from_UrbanSound_for_cnn.h5', 'df')\n",
    "df = pd.read_csv('/content/drive/MyDrive/datasets/UrbanSound8K/mfcc_features_100_files.csv')"
   ]
  },
  {
   "cell_type": "code",
   "execution_count": 6,
   "metadata": {
    "colab": {
     "base_uri": "https://localhost:8080/",
     "height": 220
    },
    "id": "yunYexq6esmB",
    "outputId": "31f8d93c-3568-4c20-9fc7-82df1e6466ee"
   },
   "outputs": [
    {
     "name": "stdout",
     "output_type": "stream",
     "text": [
      "(8732, 2)\n"
     ]
    },
    {
     "data": {
      "text/html": [
       "<div>\n",
       "<style scoped>\n",
       "    .dataframe tbody tr th:only-of-type {\n",
       "        vertical-align: middle;\n",
       "    }\n",
       "\n",
       "    .dataframe tbody tr th {\n",
       "        vertical-align: top;\n",
       "    }\n",
       "\n",
       "    .dataframe thead th {\n",
       "        text-align: right;\n",
       "    }\n",
       "</style>\n",
       "<table border=\"1\" class=\"dataframe\">\n",
       "  <thead>\n",
       "    <tr style=\"text-align: right;\">\n",
       "      <th></th>\n",
       "      <th>feature</th>\n",
       "      <th>class_label</th>\n",
       "    </tr>\n",
       "  </thead>\n",
       "  <tbody>\n",
       "    <tr>\n",
       "      <th>0</th>\n",
       "      <td>[[-306.77255, -177.59209, -99.13616, -65.97198...</td>\n",
       "      <td>dog_bark</td>\n",
       "    </tr>\n",
       "    <tr>\n",
       "      <th>1</th>\n",
       "      <td>[[-457.69534, -451.0248, -450.68613, -445.0000...</td>\n",
       "      <td>children_playing</td>\n",
       "    </tr>\n",
       "    <tr>\n",
       "      <th>2</th>\n",
       "      <td>[[-468.0367, -467.42264, -481.04654, -486.5948...</td>\n",
       "      <td>children_playing</td>\n",
       "    </tr>\n",
       "    <tr>\n",
       "      <th>3</th>\n",
       "      <td>[[-422.42215, -411.9085, -409.46243, -409.0892...</td>\n",
       "      <td>children_playing</td>\n",
       "    </tr>\n",
       "    <tr>\n",
       "      <th>4</th>\n",
       "      <td>[[-438.10162, -434.47787, -443.3284, -442.6643...</td>\n",
       "      <td>children_playing</td>\n",
       "    </tr>\n",
       "  </tbody>\n",
       "</table>\n",
       "</div>"
      ],
      "text/plain": [
       "                                             feature       class_label\n",
       "0  [[-306.77255, -177.59209, -99.13616, -65.97198...          dog_bark\n",
       "1  [[-457.69534, -451.0248, -450.68613, -445.0000...  children_playing\n",
       "2  [[-468.0367, -467.42264, -481.04654, -486.5948...  children_playing\n",
       "3  [[-422.42215, -411.9085, -409.46243, -409.0892...  children_playing\n",
       "4  [[-438.10162, -434.47787, -443.3284, -442.6643...  children_playing"
      ]
     },
     "execution_count": 6,
     "metadata": {},
     "output_type": "execute_result"
    }
   ],
   "source": [
    "print(df.shape)\n",
    "df.head(5)"
   ]
  },
  {
   "cell_type": "code",
   "execution_count": 7,
   "metadata": {
    "id": "szjVN8nWnlZC"
   },
   "outputs": [],
   "source": [
    "def prepare_dataset(test_size, validation_size): \t\n",
    "\t#load data\n",
    "\tX = np.array(df.feature.tolist())\n",
    "\ty = np.array(df.class_label.tolist())\n",
    "\t\n",
    "\tle = LabelEncoder()\n",
    "\ty = to_categorical(le.fit_transform(y))\n",
    "\t\n",
    "\t#create train/test split\n",
    "\tX_train, X_test, y_train, y_test = train_test_split(X,y, test_size = test_size)\n",
    "\t\n",
    "\t#create train/validation split\n",
    "\tX_train, X_validation, y_train, y_validation = train_test_split(X_train, y_train, test_size = validation_size)\n",
    "\n",
    "\t#for CNN tensor flow expects a 3d array -->(130,13,1)\n",
    "\tX_train = X_train[...,np.newaxis] #4d array --> (num_samples, 130, 13,1)\n",
    "\tX_validation = X_validation[...,np.newaxis]\n",
    "\tX_test = X_test[...,np.newaxis]\n",
    "\t\n",
    "\treturn X_train, X_validation, X_test, y_train, y_validation, y_test , le\n"
   ]
  },
  {
   "cell_type": "code",
   "execution_count": 8,
   "metadata": {
    "id": "ld0r4_Yb58oi"
   },
   "outputs": [],
   "source": [
    "X_train, X_validation, X_test, y_train, y_validation, y_test, le= prepare_dataset(0.25, 0.2)"
   ]
  },
  {
   "cell_type": "code",
   "execution_count": 118,
   "metadata": {
    "id": "l7dTW1gZusvu"
   },
   "outputs": [],
   "source": [
    "def build_model(input_shape):\n",
    "\t\n",
    "\t#create model \n",
    "\tmodel = keras.Sequential()\n",
    "\t#1st conv layer\n",
    "\tmodel.add(keras.layers.Conv2D(32, (3, 3), activation = 'relu', input_shape= input_shape))\n",
    "\tmodel.add(keras.layers.MaxPool2D((3,3), strides = (2,2), padding = 'same'))\n",
    "\tmodel.add(keras.layers.BatchNormalization()) # speed up korbe>> normalise korbe...details bole nai...beginning level e na janleo ok!\n",
    "\t\n",
    "\t\n",
    "\t#param>>filters, kernel_size, \n",
    "\t#2nd conv layer\n",
    "\tmodel.add(keras.layers.Conv2D(64, (3, 3), activation = 'relu', input_shape= input_shape))\n",
    "\t#param>> kernel_size, padding same means zero padding\n",
    "\tmodel.add(keras.layers.MaxPool2D((3,3), strides = (2,2), padding = 'same'))\n",
    "\tmodel.add(keras.layers.BatchNormalization())\n",
    "\t\n",
    "\t\n",
    "\tmodel.add(keras.layers.Conv2D(128, (3, 3), activation = 'relu', input_shape= input_shape))\n",
    "\tmodel.add(keras.layers.MaxPool2D((3,3), strides = (2,2), padding = 'same'))\n",
    "\tmodel.add(keras.layers.BatchNormalization())\n",
    "\n",
    "    #3rd conv layer\n",
    "\tmodel.add(keras.layers.Conv2D(256, (2, 2), activation = 'relu', input_shape= input_shape))\n",
    "\tmodel.add(keras.layers.MaxPool2D((3,3), strides = (2,2), padding = 'same'))\n",
    "\tmodel.add(keras.layers.BatchNormalization())\n",
    "    \n",
    "\n",
    "    \n",
    "\tmodel.add(keras.layers.Conv2D(512, (2, 2), activation = 'relu', input_shape= input_shape))\n",
    "\tmodel.add(keras.layers.MaxPool2D((3,3), strides = (2,2), padding = 'same'))\n",
    "# \tmodel.add(keras.layers.BatchNormalization())\n",
    "    \n",
    "# \tmodel.add(keras.layers.Conv2D(1024, (2, 2), activation = 'relu', input_shape= input_shape))\n",
    "# \tmodel.add(keras.layers.MaxPool2D((2,2), strides = (2,2), padding = 'same'))\n",
    "# \tmodel.add(keras.layers.BatchNormalization())\n",
    "    \n",
    "\t\n",
    "\tmodel.add(keras.layers.GlobalAveragePooling2D())\n",
    "\t#flatten the output and feed it into dense layer\n",
    "\tmodel.add(keras.layers.Flatten())\n",
    "\tmodel.add(keras.layers.Dense(256,activation='relu'))\n",
    "\tmodel.add(keras.layers.Dense(128,activation='relu'))    \n",
    "\tmodel.add(keras.layers.Dense(64, activation = 'relu'))\n",
    "# \tmodel.add(keras.layers.Dense(64, activation = 'relu'))\n",
    "\tmodel.add(keras.layers.Dropout(0.3))\n",
    "\t\n",
    "\t#output layer\n",
    "\tmodel.add(keras.layers.Dense(10, activation = 'softmax'))\n",
    "\n",
    "\treturn model\n"
   ]
  },
  {
   "cell_type": "code",
   "execution_count": 124,
   "metadata": {
    "id": "0jOqviXJ6BOV"
   },
   "outputs": [],
   "source": [
    "#build the CNN net\n",
    "input_shape = (X_train.shape[1], X_train.shape[2], X_train.shape[3]) \n",
    "model = build_model(input_shape)"
   ]
  },
  {
   "cell_type": "code",
   "execution_count": 125,
   "metadata": {
    "colab": {
     "base_uri": "https://localhost:8080/"
    },
    "id": "_zGNLHdDFr0x",
    "outputId": "8c67dac6-5823-49e5-df89-422e23cbada2"
   },
   "outputs": [
    {
     "name": "stdout",
     "output_type": "stream",
     "text": [
      "(40, 174, 1)\n",
      "(5239, 40, 174, 1)\n",
      "(1310, 40, 174, 1)\n",
      "(2183, 40, 174, 1)\n",
      "(40, 174, 1)\n"
     ]
    }
   ],
   "source": [
    "print(input_shape)\n",
    "print(X_train.shape)\n",
    "print(X_validation.shape)\n",
    "print(X_test.shape)\n",
    "print(X_train[0].shape)"
   ]
  },
  {
   "cell_type": "code",
   "execution_count": 126,
   "metadata": {
    "id": "PrEMESft6ZPo"
   },
   "outputs": [],
   "source": [
    "#Compile the CNN\n",
    "optimizer = keras.optimizers.Adam(learning_rate = 0.0001)\n",
    "model.compile(optimizer=optimizer, loss= \"categorical_crossentropy\",\n",
    "metrics=['accuracy'])"
   ]
  },
  {
   "cell_type": "code",
   "execution_count": 127,
   "metadata": {
    "colab": {
     "base_uri": "https://localhost:8080/"
    },
    "id": "2Xi4GONfWwdN",
    "outputId": "2165b34d-0ea7-4516-91ae-72367c042cd8"
   },
   "outputs": [
    {
     "name": "stdout",
     "output_type": "stream",
     "text": [
      "Model: \"sequential_17\"\n",
      "_________________________________________________________________\n",
      "Layer (type)                 Output Shape              Param #   \n",
      "=================================================================\n",
      "conv2d_89 (Conv2D)           (None, 38, 172, 32)       320       \n",
      "_________________________________________________________________\n",
      "max_pooling2d_85 (MaxPooling (None, 19, 86, 32)        0         \n",
      "_________________________________________________________________\n",
      "batch_normalization_84 (Batc (None, 19, 86, 32)        128       \n",
      "_________________________________________________________________\n",
      "conv2d_90 (Conv2D)           (None, 17, 84, 64)        18496     \n",
      "_________________________________________________________________\n",
      "max_pooling2d_86 (MaxPooling (None, 9, 42, 64)         0         \n",
      "_________________________________________________________________\n",
      "batch_normalization_85 (Batc (None, 9, 42, 64)         256       \n",
      "_________________________________________________________________\n",
      "conv2d_91 (Conv2D)           (None, 7, 40, 128)        73856     \n",
      "_________________________________________________________________\n",
      "max_pooling2d_87 (MaxPooling (None, 4, 20, 128)        0         \n",
      "_________________________________________________________________\n",
      "batch_normalization_86 (Batc (None, 4, 20, 128)        512       \n",
      "_________________________________________________________________\n",
      "conv2d_92 (Conv2D)           (None, 3, 19, 256)        131328    \n",
      "_________________________________________________________________\n",
      "max_pooling2d_88 (MaxPooling (None, 2, 10, 256)        0         \n",
      "_________________________________________________________________\n",
      "batch_normalization_87 (Batc (None, 2, 10, 256)        1024      \n",
      "_________________________________________________________________\n",
      "conv2d_93 (Conv2D)           (None, 1, 9, 512)         524800    \n",
      "_________________________________________________________________\n",
      "max_pooling2d_89 (MaxPooling (None, 1, 5, 512)         0         \n",
      "_________________________________________________________________\n",
      "global_average_pooling2d_1 ( (None, 512)               0         \n",
      "_________________________________________________________________\n",
      "flatten_15 (Flatten)         (None, 512)               0         \n",
      "_________________________________________________________________\n",
      "dense_36 (Dense)             (None, 256)               131328    \n",
      "_________________________________________________________________\n",
      "dense_37 (Dense)             (None, 128)               32896     \n",
      "_________________________________________________________________\n",
      "dense_38 (Dense)             (None, 64)                8256      \n",
      "_________________________________________________________________\n",
      "dropout_15 (Dropout)         (None, 64)                0         \n",
      "_________________________________________________________________\n",
      "dense_39 (Dense)             (None, 10)                650       \n",
      "=================================================================\n",
      "Total params: 923,850\n",
      "Trainable params: 922,890\n",
      "Non-trainable params: 960\n",
      "_________________________________________________________________\n"
     ]
    }
   ],
   "source": [
    "model.summary()"
   ]
  },
  {
   "cell_type": "code",
   "execution_count": 128,
   "metadata": {
    "colab": {
     "base_uri": "https://localhost:8080/",
     "height": 471
    },
    "id": "tz1oRvcg6aSc",
    "outputId": "54e2a38b-0d0e-4ada-cb65-ecf070a45638"
   },
   "outputs": [
    {
     "name": "stdout",
     "output_type": "stream",
     "text": [
      "Epoch 1/40\n",
      "164/164 [==============================] - 36s 217ms/step - loss: 1.7686 - accuracy: 0.3682 - val_loss: 1.6423 - val_accuracy: 0.4573\n",
      "Epoch 2/40\n",
      "164/164 [==============================] - 35s 212ms/step - loss: 0.9948 - accuracy: 0.6644 - val_loss: 0.9297 - val_accuracy: 0.7000\n",
      "Epoch 3/40\n",
      "164/164 [==============================] - 33s 202ms/step - loss: 0.7502 - accuracy: 0.7621 - val_loss: 0.6422 - val_accuracy: 0.8008\n",
      "Epoch 4/40\n",
      "164/164 [==============================] - 34s 207ms/step - loss: 0.5538 - accuracy: 0.8255 - val_loss: 0.5160 - val_accuracy: 0.8328\n",
      "Epoch 5/40\n",
      "164/164 [==============================] - 34s 210ms/step - loss: 0.4868 - accuracy: 0.8471 - val_loss: 0.4131 - val_accuracy: 0.8679\n",
      "Epoch 6/40\n",
      "164/164 [==============================] - 36s 221ms/step - loss: 0.3594 - accuracy: 0.8810 - val_loss: 0.4385 - val_accuracy: 0.8557\n",
      "Epoch 7/40\n",
      "164/164 [==============================] - 32s 196ms/step - loss: 0.2830 - accuracy: 0.9132 - val_loss: 0.3874 - val_accuracy: 0.8725\n",
      "Epoch 8/40\n",
      "164/164 [==============================] - 33s 204ms/step - loss: 0.2621 - accuracy: 0.9201 - val_loss: 0.3283 - val_accuracy: 0.9031\n",
      "Epoch 9/40\n",
      "164/164 [==============================] - 34s 207ms/step - loss: 0.2244 - accuracy: 0.9290 - val_loss: 0.4435 - val_accuracy: 0.8611\n",
      "Epoch 10/40\n",
      "164/164 [==============================] - 34s 209ms/step - loss: 0.1834 - accuracy: 0.9400 - val_loss: 0.3724 - val_accuracy: 0.8924\n",
      "Epoch 11/40\n",
      "164/164 [==============================] - 34s 210ms/step - loss: 0.1621 - accuracy: 0.9482 - val_loss: 0.4020 - val_accuracy: 0.8832\n",
      "Epoch 12/40\n",
      "164/164 [==============================] - 36s 218ms/step - loss: 0.1498 - accuracy: 0.9540 - val_loss: 0.3680 - val_accuracy: 0.8847\n",
      "Epoch 13/40\n",
      "164/164 [==============================] - 39s 239ms/step - loss: 0.1213 - accuracy: 0.9630 - val_loss: 0.2845 - val_accuracy: 0.9191\n",
      "Epoch 14/40\n",
      "164/164 [==============================] - 35s 211ms/step - loss: 0.0997 - accuracy: 0.9718 - val_loss: 0.2800 - val_accuracy: 0.9153\n",
      "Epoch 15/40\n",
      "164/164 [==============================] - 37s 227ms/step - loss: 0.1072 - accuracy: 0.9653 - val_loss: 0.3484 - val_accuracy: 0.8985\n",
      "Epoch 16/40\n",
      "164/164 [==============================] - 38s 231ms/step - loss: 0.0801 - accuracy: 0.9760 - val_loss: 0.3278 - val_accuracy: 0.9031\n",
      "Epoch 17/40\n",
      "164/164 [==============================] - 35s 217ms/step - loss: 0.0790 - accuracy: 0.9759 - val_loss: 0.3532 - val_accuracy: 0.9092\n",
      "Epoch 18/40\n",
      "164/164 [==============================] - 40s 242ms/step - loss: 0.0598 - accuracy: 0.9818 - val_loss: 0.2587 - val_accuracy: 0.9244\n",
      "Epoch 19/40\n",
      "164/164 [==============================] - 34s 209ms/step - loss: 0.0545 - accuracy: 0.9828 - val_loss: 0.3314 - val_accuracy: 0.9130\n",
      "Epoch 20/40\n",
      "164/164 [==============================] - 34s 209ms/step - loss: 0.0596 - accuracy: 0.9798 - val_loss: 0.4371 - val_accuracy: 0.8855\n",
      "Epoch 21/40\n",
      "164/164 [==============================] - 35s 214ms/step - loss: 0.0726 - accuracy: 0.9776 - val_loss: 0.3830 - val_accuracy: 0.9084\n",
      "Epoch 22/40\n",
      "164/164 [==============================] - 35s 213ms/step - loss: 0.0638 - accuracy: 0.9818 - val_loss: 0.3221 - val_accuracy: 0.9206\n",
      "Epoch 23/40\n",
      "164/164 [==============================] - 33s 200ms/step - loss: 0.0567 - accuracy: 0.9840 - val_loss: 0.2927 - val_accuracy: 0.9252\n",
      "Epoch 24/40\n",
      "164/164 [==============================] - 33s 202ms/step - loss: 0.0327 - accuracy: 0.9907 - val_loss: 0.3441 - val_accuracy: 0.9221\n",
      "Epoch 25/40\n",
      "164/164 [==============================] - 34s 207ms/step - loss: 0.0500 - accuracy: 0.9833 - val_loss: 0.3669 - val_accuracy: 0.9130\n",
      "Epoch 26/40\n",
      "164/164 [==============================] - 36s 218ms/step - loss: 0.0447 - accuracy: 0.9869 - val_loss: 0.3540 - val_accuracy: 0.9214\n",
      "Epoch 27/40\n",
      "164/164 [==============================] - 38s 233ms/step - loss: 0.0465 - accuracy: 0.9818 - val_loss: 0.4350 - val_accuracy: 0.9031\n",
      "Epoch 28/40\n",
      "164/164 [==============================] - 37s 227ms/step - loss: 0.0679 - accuracy: 0.9799 - val_loss: 0.3614 - val_accuracy: 0.9084\n",
      "Epoch 29/40\n",
      "164/164 [==============================] - 42s 258ms/step - loss: 0.0437 - accuracy: 0.9865 - val_loss: 0.2822 - val_accuracy: 0.9389\n",
      "Epoch 30/40\n",
      "164/164 [==============================] - 35s 215ms/step - loss: 0.0330 - accuracy: 0.9892 - val_loss: 0.3585 - val_accuracy: 0.9191\n",
      "Epoch 31/40\n",
      "164/164 [==============================] - 34s 207ms/step - loss: 0.0308 - accuracy: 0.9928 - val_loss: 0.4056 - val_accuracy: 0.8977\n",
      "Epoch 32/40\n",
      "164/164 [==============================] - 34s 208ms/step - loss: 0.0290 - accuracy: 0.9924 - val_loss: 0.3390 - val_accuracy: 0.9237\n",
      "Epoch 33/40\n",
      "164/164 [==============================] - 34s 208ms/step - loss: 0.0248 - accuracy: 0.9926 - val_loss: 0.3334 - val_accuracy: 0.9260\n",
      "Epoch 34/40\n",
      "164/164 [==============================] - 35s 211ms/step - loss: 0.0517 - accuracy: 0.9817 - val_loss: 0.3329 - val_accuracy: 0.9191\n",
      "Epoch 35/40\n",
      "164/164 [==============================] - 39s 238ms/step - loss: 0.0346 - accuracy: 0.9888 - val_loss: 0.3302 - val_accuracy: 0.9282\n",
      "Epoch 36/40\n",
      "164/164 [==============================] - 39s 240ms/step - loss: 0.0201 - accuracy: 0.9925 - val_loss: 0.3024 - val_accuracy: 0.9275\n",
      "Epoch 37/40\n",
      "164/164 [==============================] - 36s 221ms/step - loss: 0.0170 - accuracy: 0.9950 - val_loss: 0.3320 - val_accuracy: 0.9298\n",
      "Epoch 38/40\n",
      "164/164 [==============================] - 35s 215ms/step - loss: 0.0292 - accuracy: 0.9912 - val_loss: 0.3765 - val_accuracy: 0.9168\n",
      "Epoch 39/40\n",
      "164/164 [==============================] - 32s 195ms/step - loss: 0.0341 - accuracy: 0.9906 - val_loss: 0.4520 - val_accuracy: 0.9092\n",
      "Epoch 40/40\n",
      "164/164 [==============================] - 32s 192ms/step - loss: 0.0373 - accuracy: 0.9900 - val_loss: 0.3101 - val_accuracy: 0.9366\n",
      "Duration for the train 0:23:33.711686\n"
     ]
    }
   ],
   "source": [
    "#train the CNN\n",
    "start_time = datetime.now()\n",
    "history = model.fit(X_train, y_train, validation_data = (X_validation, y_validation), batch_size = 32, epochs = 40 )\n",
    "duration = datetime.now() - start_time\n",
    "print(\"Duration for the train {}\".format(duration))\n",
    "# model.save('cnn_model_after_training_by_mfcc.h5')\n",
    " \n",
    "\n",
    "#saving all the history for future ploting\n",
    "# f = open('mfcc_training_history_cnn' , 'wb')\n",
    "# pickle.dump(H.history, f)\n",
    "# f.close()\n",
    "\n"
   ]
  },
  {
   "cell_type": "code",
   "execution_count": 129,
   "metadata": {},
   "outputs": [],
   "source": [
    "model.save('cnn_model_after_training_by_mfcc_layer_increasd_5layer3rd.h5')\n",
    " \n",
    "import pickle\n",
    "# saving all the history for future ploting\n",
    "f = open('mfcc_training_history_cnn_5_layer_upgraded_best' , 'wb')\n",
    "pickle.dump(history.history, f)\n",
    "f.close()\n"
   ]
  },
  {
   "cell_type": "code",
   "execution_count": 101,
   "metadata": {
    "id": "61mERq59n7eu"
   },
   "outputs": [],
   "source": [
    "#test the model again\n",
    "def testing():\n",
    "\ttrain_error, train_accuracy = model.evaluate(X_train, y_train, verbose = 1)\n",
    "\ttest_error, test_accuracy = model.evaluate(X_test, y_test, verbose =1)\n",
    "\n",
    "\tprint(\"Train error: {} , Train Accuracy: {} \".format(train_error, train_accuracy))\n",
    "\tprint(\"Test error: {} , Test Accuracy: {} \".format(test_error, test_accuracy)) \n"
   ]
  },
  {
   "cell_type": "code",
   "execution_count": 130,
   "metadata": {
    "colab": {
     "base_uri": "https://localhost:8080/"
    },
    "id": "nt0SH-BeD9H-",
    "outputId": "ba29943f-d51e-4800-a28a-f612c805753f"
   },
   "outputs": [
    {
     "name": "stdout",
     "output_type": "stream",
     "text": [
      "164/164 [==============================] - 6s 38ms/step - loss: 0.0031 - accuracy: 0.9994\n",
      "69/69 [==============================] - 3s 38ms/step - loss: 0.2943 - accuracy: 0.9249\n",
      "Train error: 0.0030780755914747715 , Train Accuracy: 0.9994273781776428 \n",
      "Test error: 0.29428282380104065 , Test Accuracy: 0.9248740077018738 \n"
     ]
    }
   ],
   "source": [
    "testing()"
   ]
  },
  {
   "cell_type": "code",
   "execution_count": 131,
   "metadata": {
    "colab": {
     "base_uri": "https://localhost:8080/"
    },
    "id": "RO2GsiC-7qv4",
    "outputId": "5e4d7d41-0659-4d71-a4ca-1d31c2469c40"
   },
   "outputs": [
    {
     "name": "stdout",
     "output_type": "stream",
     "text": [
      "69/69 [==============================] - 3s 39ms/step - loss: 0.2943 - accuracy: 0.9249\n",
      "Accuracy on test set is : 0.9248740077018738\n"
     ]
    }
   ],
   "source": [
    "#evaluate the CNN on the test set\n",
    "test_error, test_accuracy = model.evaluate(X_test, y_test, verbose = 1)\n",
    "print(\"Accuracy on test set is : {}\". format(test_accuracy))"
   ]
  },
  {
   "cell_type": "code",
   "execution_count": 69,
   "metadata": {
    "id": "sFXQ0_G49ycV"
   },
   "outputs": [],
   "source": [
    "####### ploting training history ##############\n",
    "import matplotlib.pyplot as plt\n",
    "\n",
    "def plot_history(H):\n",
    "\n",
    "  plt.style.use('ggplot')  \n",
    "  fig, axs = plt.subplots(2,figsize=(13,13))\n",
    "  #create accuracy subplots\n",
    "  axs[0].plot(H.history[\"accuracy\"], label=\"train accuracy\")\n",
    "  axs[0].plot(H.history[\"val_accuracy\"], label=\"test accuracy\")\n",
    "  axs[0].set_ylabel(\"Accuracy\")\n",
    "  axs[0].legend(loc=\"lower right\")\n",
    "  axs[0].set_title(\"Accuracy eval\")\n",
    "\t\n",
    "\t#create error subplots\n",
    "  axs[1].plot(H.history[\"loss\"], label=\"train error\")\n",
    "  axs[1].plot(H.history[\"val_loss\"], label=\"test error\")\n",
    "  axs[1].set_ylabel(\"Error\")\n",
    "  axs[1].set_xlabel(\"Epoch\")\n",
    "  axs[1].legend(loc=\"upper right\")\n",
    "  axs[1].set_title(\"Error eval\")\n",
    "  \n",
    "  plt.show()"
   ]
  },
  {
   "cell_type": "code",
   "execution_count": 132,
   "metadata": {
    "colab": {
     "base_uri": "https://localhost:8080/",
     "height": 789
    },
    "id": "TdyhXqdTFVyY",
    "outputId": "3d4455dd-1442-4ecc-f04c-0280dbff8278"
   },
   "outputs": [
    {
     "data": {
      "image/png": "[encoded data removed]",
      "text/plain": [
       "<Figure size 936x936 with 2 Axes>"
      ]
     },
     "metadata": {},
     "output_type": "display_data"
    }
   ],
   "source": [
    "plot_history(history)"
   ]
  },
  {
   "cell_type": "code",
   "execution_count": 71,
   "metadata": {
    "id": "fviNdQNhoTdg"
   },
   "outputs": [],
   "source": [
    "#prediction _function\n",
    "def prediction(input_file):\n",
    "\tprediction_feature = extract_feature(input_file)\n",
    "\n",
    "\tprediction_feature = prediction_feature[np.newaxis, ... , np.newaxis]\n",
    "\tpredicted_vector = model.predict_classes(prediction_feature)\n",
    "\tpredicted_class = le.inverse_transform(predicted_vector)\n",
    "\tprint(\"The predicted class is:\", predicted_class[0], '\\n') \n",
    "\n",
    "\treturn predicted_class[0]\n",
    "\t"
   ]
  },
  {
   "cell_type": "code",
   "execution_count": null,
   "metadata": {
    "id": "SpGTFWn7omGR"
   },
   "outputs": [],
   "source": [
    "X_train, X_validation, X_test, y_train, y_validation, y_test,le = prepare_dataset(0.25, 0.2)\n",
    "\t\n",
    "#load model\n",
    "model2 = keras.models.load_model('/content/drive/MyDrive/datasets/cnn_model_after_training.h5')"
   ]
  },
  {
   "cell_type": "markdown",
   "metadata": {
    "id": "LKehnBMepU--"
   },
   "source": [
    "#testing the cnn model"
   ]
  },
  {
   "cell_type": "code",
   "execution_count": null,
   "metadata": {
    "colab": {
     "base_uri": "https://localhost:8080/"
    },
    "id": "6tAsx-IYon8h",
    "outputId": "ccb577b9-9c2f-4dd3-fa1a-abda040ba3ec"
   },
   "outputs": [
    {
     "name": "stdout",
     "output_type": "stream",
     "text": [
      "164/164 [==============================] - 1s 4ms/step - loss: 0.2939 - accuracy: 0.9362\n",
      "69/69 [==============================] - 0s 4ms/step - loss: 0.2812 - accuracy: 0.9404\n",
      "Train error: 0.29390841722488403 , Train Accuracy: 0.9362473487854004 \n",
      "Test error: 0.28123781085014343 , Test Accuracy: 0.9404489398002625 \n"
     ]
    }
   ],
   "source": [
    "\ttrain_error, train_accuracy = model2.evaluate(X_train, y_train, verbose = 1)\n",
    "\ttest_error, test_accuracy = model2.evaluate(X_test, y_test, verbose =1)\n",
    "\n",
    "\tprint(\"Train error: {} , Train Accuracy: {} \".format(train_error, train_accuracy))\n",
    "\tprint(\"Test error: {} , Test Accuracy: {} \".format(test_error, test_accuracy)) "
   ]
  },
  {
   "cell_type": "code",
   "execution_count": null,
   "metadata": {
    "id": "WedwriJSHVcv"
   },
   "outputs": [],
   "source": []
  }
 ],
 "metadata": {
  "accelerator": "GPU",
  "colab": {
   "collapsed_sections": [],
   "name": "urbansound8k with cnn(mfccs).ipynb",
   "provenance": []
  },
  "kernelspec": {
   "display_name": "Python 3",
   "language": "python",
   "name": "python3"
  },
  "language_info": {
   "codemirror_mode": {
    "name": "ipython",
    "version": 3
   },
   "file_extension": ".py",
   "mimetype": "text/x-python",
   "name": "python",
   "nbconvert_exporter": "python",
   "pygments_lexer": "ipython3",
   "version": "3.8.10"
  }
 },
 "nbformat": 4,
 "nbformat_minor": 1
}
